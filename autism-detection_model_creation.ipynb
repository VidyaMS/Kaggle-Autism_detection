{
 "cells": [
  {
   "cell_type": "code",
   "execution_count": 1,
   "metadata": {
    "_cell_guid": "b1076dfc-b9ad-4769-8c92-a6c4dae69d19",
    "_uuid": "8f2839f25d086af736a60e9eeb907d3b93b6e0e5",
    "execution": {
     "iopub.execute_input": "2021-05-27T09:23:57.494301Z",
     "iopub.status.busy": "2021-05-27T09:23:57.493777Z",
     "iopub.status.idle": "2021-05-27T09:23:57.508989Z",
     "shell.execute_reply": "2021-05-27T09:23:57.507735Z",
     "shell.execute_reply.started": "2021-05-27T09:23:57.494196Z"
    }
   },
   "outputs": [],
   "source": [
    "# This Python 3 environment comes with many helpful analytics libraries installed\n",
    "# It is defined by the kaggle/python Docker image: https://github.com/kaggle/docker-python\n",
    "# For example, here's several helpful packages to load\n",
    "\n",
    "import numpy as np # linear algebra\n",
    "import pandas as pd # data processing, CSV file I/O (e.g. pd.read_csv)\n",
    "\n",
    "# Input data files are available in the read-only \"../input/\" directory\n",
    "# For example, running this (by clicking run or pressing Shift+Enter) will list all files under the input directory\n",
    "\n",
    "import os\n",
    "#for dirname, _, filenames in os.walk('/kaggle/input'):\n",
    "    #for filename in filenames:\n",
    "        #print(os.path.join(dirname, filename))\n",
    "\n",
    "# You can write up to 20GB to the current directory (/kaggle/working/) that gets preserved as output when you create a version using \"Save & Run All\" \n",
    "# You can also write temporary files to /kaggle/temp/, but they won't be saved outside of the current session"
   ]
  },
  {
   "cell_type": "code",
   "execution_count": 2,
   "metadata": {
    "execution": {
     "iopub.execute_input": "2021-05-27T09:24:00.057485Z",
     "iopub.status.busy": "2021-05-27T09:24:00.057058Z",
     "iopub.status.idle": "2021-05-27T09:24:03.501097Z",
     "shell.execute_reply": "2021-05-27T09:24:03.498564Z",
     "shell.execute_reply.started": "2021-05-27T09:24:00.057451Z"
    }
   },
   "outputs": [
    {
     "name": "stdout",
     "output_type": "stream",
     "text": [
      "/kaggle/input/autistic-children-data-set-traintestvalidate/autism-S-224-89.33.h5\n",
      "/kaggle/input/autistic-children-data-set-traintestvalidate/consolidated/autistic/0664.jpg\n",
      "/kaggle/input/autistic-children-data-set-traintestvalidate/consolidated/non_autistic/0664.jpg\n",
      "/kaggle/input/autistic-children-data-set-traintestvalidate/valid/autistic/45.jpg\n",
      "/kaggle/input/autistic-children-data-set-traintestvalidate/valid/non_autistic/45.jpg\n",
      "/kaggle/input/autistic-children-data-set-traintestvalidate/test/autistic/029.jpg\n",
      "/kaggle/input/autistic-children-data-set-traintestvalidate/test/non_autistic/029.jpg\n",
      "/kaggle/input/autistic-children-data-set-traintestvalidate/train/autistic/0664.jpg\n",
      "/kaggle/input/autistic-children-data-set-traintestvalidate/train/non_autistic/0664.jpg\n"
     ]
    }
   ],
   "source": [
    "## get the full path name of the train_images and test_images \n",
    "for dirname, _, filenames in os.walk('/kaggle/input'):\n",
    "    for filename in filenames:\n",
    "        print(os.path.join(dirname, filename))\n",
    "        break"
   ]
  },
  {
   "cell_type": "code",
   "execution_count": 3,
   "metadata": {
    "execution": {
     "iopub.execute_input": "2021-05-28T04:20:44.591093Z",
     "iopub.status.busy": "2021-05-28T04:20:44.590732Z",
     "iopub.status.idle": "2021-05-28T04:20:46.170472Z",
     "shell.execute_reply": "2021-05-28T04:20:46.169333Z",
     "shell.execute_reply.started": "2021-05-28T04:20:44.591062Z"
    }
   },
   "outputs": [],
   "source": [
    "from pathlib import Path\n",
    "import matplotlib.pyplot as plt\n",
    "import numpy as np\n",
    "import pandas as pd\n",
    "%matplotlib inline\n",
    "\n",
    "from sklearn.utils import Bunch\n",
    "from sklearn.model_selection import GridSearchCV\n",
    "from sklearn.metrics import classification_report\n",
    "\n",
    "import skimage\n",
    "from skimage.io import imread\n",
    "from skimage.transform import resize"
   ]
  },
  {
   "cell_type": "code",
   "execution_count": 4,
   "metadata": {
    "execution": {
     "iopub.execute_input": "2021-05-28T04:20:48.399646Z",
     "iopub.status.busy": "2021-05-28T04:20:48.399268Z",
     "iopub.status.idle": "2021-05-28T04:20:54.571120Z",
     "shell.execute_reply": "2021-05-28T04:20:54.570093Z",
     "shell.execute_reply.started": "2021-05-28T04:20:48.399613Z"
    }
   },
   "outputs": [],
   "source": [
    "import tensorflow as tf"
   ]
  },
  {
   "cell_type": "code",
   "execution_count": 3,
   "metadata": {
    "execution": {
     "iopub.execute_input": "2021-05-27T09:17:54.864624Z",
     "iopub.status.busy": "2021-05-27T09:17:54.864214Z",
     "iopub.status.idle": "2021-05-27T09:17:54.879252Z",
     "shell.execute_reply": "2021-05-27T09:17:54.877941Z",
     "shell.execute_reply.started": "2021-05-27T09:17:54.864591Z"
    }
   },
   "outputs": [],
   "source": [
    "def load_image_files(container_path, dimension=(224, 224)):\n",
    "    \"\"\"\n",
    "    Load image files with categories as subfolder names \n",
    "    which performs like scikit-learn sample dataset\n",
    "    \n",
    "    Parameters\n",
    "    ----------\n",
    "    container_path : string or unicode\n",
    "        Path to the main folder holding one subfolder per category\n",
    "    dimension : tuple\n",
    "        size to which image are adjusted to\n",
    "        \n",
    "    Returns\n",
    "    -------\n",
    "    Bunch\n",
    "    \"\"\"\n",
    "    image_dir = Path(container_path)\n",
    "    folders = [directory for directory in image_dir.iterdir() if directory.is_dir()]\n",
    "    categories = [fo.name for fo in folders]\n",
    "\n",
    "    descr = \"A image classification dataset\"\n",
    "    images = []\n",
    "    flat_data = []\n",
    "    target = []\n",
    "    for i, direc in enumerate(folders):\n",
    "        for file in direc.iterdir():\n",
    "            \n",
    "            img = skimage.io.imread(file) ## need to add in plugin for reading png images.\n",
    "            #img = img[:,:,:3]\n",
    "            img_resized = resize(img, dimension, anti_aliasing=True, mode='reflect')\n",
    "            #flat_data.append(img_resized.flatten()) \n",
    "            flat_data.append(img_resized)\n",
    "            images.append(img_resized)\n",
    "            target.append(i)\n",
    "    flat_data = np.array(flat_data)\n",
    "    target = np.array(target)\n",
    "    images = np.array(images)\n",
    "\n",
    "    return Bunch(data=flat_data,\n",
    "                 target=target,\n",
    "                 target_names=categories,\n",
    "                 images=images,\n",
    "                 DESCR=descr)"
   ]
  },
  {
   "cell_type": "code",
   "execution_count": 4,
   "metadata": {
    "execution": {
     "iopub.execute_input": "2021-05-27T09:17:54.882377Z",
     "iopub.status.busy": "2021-05-27T09:17:54.881871Z",
     "iopub.status.idle": "2021-05-27T09:18:44.821498Z",
     "shell.execute_reply": "2021-05-27T09:18:44.820252Z",
     "shell.execute_reply.started": "2021-05-27T09:17:54.882330Z"
    }
   },
   "outputs": [],
   "source": [
    "train_data = load_image_files(\"/kaggle/input/autistic-children-data-set-traintestvalidate/train\")"
   ]
  },
  {
   "cell_type": "code",
   "execution_count": null,
   "metadata": {
    "execution": {
     "iopub.execute_input": "2021-05-27T04:44:27.008722Z",
     "iopub.status.busy": "2021-05-27T04:44:27.008331Z",
     "iopub.status.idle": "2021-05-27T04:44:27.016805Z",
     "shell.execute_reply": "2021-05-27T04:44:27.015726Z",
     "shell.execute_reply.started": "2021-05-27T04:44:27.008681Z"
    }
   },
   "outputs": [],
   "source": [
    "len(train_data['images'])"
   ]
  },
  {
   "cell_type": "code",
   "execution_count": null,
   "metadata": {
    "execution": {
     "iopub.execute_input": "2021-05-27T04:44:27.019152Z",
     "iopub.status.busy": "2021-05-27T04:44:27.018799Z",
     "iopub.status.idle": "2021-05-27T04:44:27.030294Z",
     "shell.execute_reply": "2021-05-27T04:44:27.029354Z",
     "shell.execute_reply.started": "2021-05-27T04:44:27.01912Z"
    }
   },
   "outputs": [],
   "source": [
    "train_data['target_names']"
   ]
  },
  {
   "cell_type": "code",
   "execution_count": null,
   "metadata": {
    "execution": {
     "iopub.execute_input": "2021-05-27T04:44:27.032193Z",
     "iopub.status.busy": "2021-05-27T04:44:27.031902Z",
     "iopub.status.idle": "2021-05-27T04:44:27.04164Z",
     "shell.execute_reply": "2021-05-27T04:44:27.040548Z",
     "shell.execute_reply.started": "2021-05-27T04:44:27.032166Z"
    }
   },
   "outputs": [],
   "source": [
    "train_data['images'][0].shape"
   ]
  },
  {
   "cell_type": "code",
   "execution_count": null,
   "metadata": {
    "execution": {
     "iopub.execute_input": "2021-05-27T04:44:27.043546Z",
     "iopub.status.busy": "2021-05-27T04:44:27.043073Z",
     "iopub.status.idle": "2021-05-27T04:44:27.329919Z",
     "shell.execute_reply": "2021-05-27T04:44:27.329206Z",
     "shell.execute_reply.started": "2021-05-27T04:44:27.043464Z"
    }
   },
   "outputs": [],
   "source": [
    "plt.figure()\n",
    "plt.imshow(train_data['images'][0])\n",
    "plt.colorbar()\n",
    "plt.grid(False)\n",
    "plt.show()"
   ]
  },
  {
   "cell_type": "code",
   "execution_count": 5,
   "metadata": {
    "execution": {
     "iopub.execute_input": "2021-05-27T09:18:44.824113Z",
     "iopub.status.busy": "2021-05-27T09:18:44.823553Z",
     "iopub.status.idle": "2021-05-27T09:18:46.641197Z",
     "shell.execute_reply": "2021-05-27T09:18:46.639717Z",
     "shell.execute_reply.started": "2021-05-27T09:18:44.824048Z"
    }
   },
   "outputs": [],
   "source": [
    "## read in validation  data \n",
    "valid_data = load_image_files(\"/kaggle/input/autistic-children-data-set-traintestvalidate/valid\")"
   ]
  },
  {
   "cell_type": "code",
   "execution_count": 6,
   "metadata": {
    "execution": {
     "iopub.execute_input": "2021-05-27T09:18:46.644530Z",
     "iopub.status.busy": "2021-05-27T09:18:46.643772Z",
     "iopub.status.idle": "2021-05-27T09:18:52.741242Z",
     "shell.execute_reply": "2021-05-27T09:18:52.739705Z",
     "shell.execute_reply.started": "2021-05-27T09:18:46.644483Z"
    }
   },
   "outputs": [],
   "source": [
    "## read in test data \n",
    "test_data = load_image_files(\"/kaggle/input/autistic-children-data-set-traintestvalidate/test\")"
   ]
  },
  {
   "cell_type": "code",
   "execution_count": null,
   "metadata": {
    "execution": {
     "iopub.execute_input": "2021-05-27T04:44:36.631141Z",
     "iopub.status.busy": "2021-05-27T04:44:36.630854Z",
     "iopub.status.idle": "2021-05-27T04:44:36.636865Z",
     "shell.execute_reply": "2021-05-27T04:44:36.635922Z",
     "shell.execute_reply.started": "2021-05-27T04:44:36.631114Z"
    }
   },
   "outputs": [],
   "source": [
    "len(valid_data['images'])"
   ]
  },
  {
   "cell_type": "code",
   "execution_count": null,
   "metadata": {
    "execution": {
     "iopub.execute_input": "2021-05-27T04:44:36.638792Z",
     "iopub.status.busy": "2021-05-27T04:44:36.638454Z",
     "iopub.status.idle": "2021-05-27T04:44:36.650366Z",
     "shell.execute_reply": "2021-05-27T04:44:36.649592Z",
     "shell.execute_reply.started": "2021-05-27T04:44:36.638762Z"
    }
   },
   "outputs": [],
   "source": [
    "len(test_data['images'])"
   ]
  },
  {
   "cell_type": "code",
   "execution_count": null,
   "metadata": {
    "execution": {
     "iopub.execute_input": "2021-05-27T04:44:36.652459Z",
     "iopub.status.busy": "2021-05-27T04:44:36.651889Z",
     "iopub.status.idle": "2021-05-27T04:44:36.661482Z",
     "shell.execute_reply": "2021-05-27T04:44:36.660488Z",
     "shell.execute_reply.started": "2021-05-27T04:44:36.652425Z"
    }
   },
   "outputs": [],
   "source": [
    "class myCallback(tf.keras.callbacks.Callback):\n",
    "    \n",
    "    def on_epoch_end(self, epoch, logs={}):\n",
    "        if(logs.get('accuracy')>0.9):\n",
    "            print(\"\\nReached 90% accuracy so cancelling training!\")\n",
    "            self.model.stop_training = True\n",
    "\n",
    "callbacks = myCallback()"
   ]
  },
  {
   "cell_type": "code",
   "execution_count": null,
   "metadata": {
    "execution": {
     "iopub.execute_input": "2021-05-27T04:44:36.663445Z",
     "iopub.status.busy": "2021-05-27T04:44:36.662865Z",
     "iopub.status.idle": "2021-05-27T04:44:36.679468Z",
     "shell.execute_reply": "2021-05-27T04:44:36.678763Z",
     "shell.execute_reply.started": "2021-05-27T04:44:36.663408Z"
    }
   },
   "outputs": [],
   "source": [
    "train_data.keys()"
   ]
  },
  {
   "cell_type": "code",
   "execution_count": null,
   "metadata": {
    "execution": {
     "iopub.execute_input": "2021-05-27T04:44:36.681297Z",
     "iopub.status.busy": "2021-05-27T04:44:36.68083Z",
     "iopub.status.idle": "2021-05-27T04:44:36.692883Z",
     "shell.execute_reply": "2021-05-27T04:44:36.691699Z",
     "shell.execute_reply.started": "2021-05-27T04:44:36.681265Z"
    }
   },
   "outputs": [],
   "source": [
    "train_data['target'].shape"
   ]
  },
  {
   "cell_type": "code",
   "execution_count": null,
   "metadata": {
    "execution": {
     "iopub.execute_input": "2021-05-23T03:48:28.176146Z",
     "iopub.status.busy": "2021-05-23T03:48:28.175478Z",
     "iopub.status.idle": "2021-05-23T03:49:40.107015Z",
     "shell.execute_reply": "2021-05-23T03:49:40.105724Z",
     "shell.execute_reply.started": "2021-05-23T03:48:28.176107Z"
    }
   },
   "outputs": [],
   "source": [
    "## With single layer , 128 neurons and callback.\n",
    "\n",
    "X_train = train_data['data']\n",
    "X_valid = valid_data['data']\n",
    "X_test = test_data['data']\n",
    "##\n",
    "y_train = train_data['target']\n",
    "y_test = test_data['target']\n",
    "y_valid = valid_data['target']\n",
    "\n",
    "model = tf.keras.models.Sequential([\n",
    "  tf.keras.layers.Flatten(input_shape=(224, 224,3)),\n",
    "  tf.keras.layers.Dense(128, activation=tf.nn.relu),\n",
    "  tf.keras.layers.Dense(2, activation=tf.nn.softmax)\n",
    "])\n",
    "model.compile(optimizer='adam', loss='sparse_categorical_crossentropy', metrics=['accuracy'], )\n",
    "history = model.fit(X_train, y_train, epochs=10,validation_data=(X_valid,y_valid), callbacks = [callbacks])\n",
    "##\n",
    "test_loss, test_acc = model.evaluate(X_test, y_test)\n",
    "print(\"Test image accuracy :{}\".format(test_acc))\n",
    "##\n",
    "plt.plot(history.history['accuracy'], '-o' ,label='accuracy')\n",
    "plt.plot(history.history['val_accuracy'], '-o', label = 'val_accuracy')\n",
    "plt.xlabel('Epoch')\n",
    "plt.ylabel('Accuracy')\n",
    "plt.ylim([0.5, 1])\n",
    "plt.legend(loc='lower right')"
   ]
  },
  {
   "cell_type": "code",
   "execution_count": null,
   "metadata": {
    "execution": {
     "iopub.execute_input": "2021-05-23T03:50:27.017433Z",
     "iopub.status.busy": "2021-05-23T03:50:27.016983Z",
     "iopub.status.idle": "2021-05-23T03:52:44.215635Z",
     "shell.execute_reply": "2021-05-23T03:52:44.214424Z",
     "shell.execute_reply.started": "2021-05-23T03:50:27.017386Z"
    }
   },
   "outputs": [],
   "source": [
    "## With single layer , 256 neurons and callback.\n",
    "\n",
    "X_train = train_data['data']\n",
    "X_valid = valid_data['data']\n",
    "X_test = test_data['data']\n",
    "##\n",
    "y_train = train_data['target']\n",
    "y_test = test_data['target']\n",
    "y_valid = valid_data['target']\n",
    "\n",
    "model = tf.keras.models.Sequential([\n",
    "  tf.keras.layers.Flatten(input_shape=(224, 224,3)),\n",
    "  tf.keras.layers.Dense(256, activation=tf.nn.relu),\n",
    "  tf.keras.layers.Dense(2, activation=tf.nn.softmax)\n",
    "])\n",
    "model.compile(optimizer='adam', loss='sparse_categorical_crossentropy', metrics=['accuracy'], )\n",
    "history = model.fit(X_train, y_train, epochs=10,validation_data=(X_valid,y_valid), callbacks = [callbacks])\n",
    "##\n",
    "test_loss, test_acc = model.evaluate(X_test, y_test)\n",
    "print(\"Test image accuracy :{}\".format(test_acc))\n",
    "##\n",
    "plt.plot(history.history['accuracy'], '-o' ,label='accuracy')\n",
    "plt.plot(history.history['val_accuracy'], '-o', label = 'val_accuracy')\n",
    "plt.xlabel('Epoch')\n",
    "plt.ylabel('Accuracy')\n",
    "plt.ylim([0.5, 1])\n",
    "plt.legend(loc='lower right')"
   ]
  },
  {
   "cell_type": "code",
   "execution_count": null,
   "metadata": {
    "execution": {
     "iopub.execute_input": "2021-05-23T07:13:51.413991Z",
     "iopub.status.busy": "2021-05-23T07:13:51.413627Z",
     "iopub.status.idle": "2021-05-23T07:15:01.459727Z",
     "shell.execute_reply": "2021-05-23T07:15:01.458183Z",
     "shell.execute_reply.started": "2021-05-23T07:13:51.413961Z"
    }
   },
   "outputs": [],
   "source": [
    "## With single layer , 128 neurons and callback.\n",
    "\n",
    "X_train = train_data['data']\n",
    "X_valid = valid_data['data']\n",
    "X_test = test_data['data']\n",
    "##\n",
    "y_train = train_data['target']\n",
    "y_test = test_data['target']\n",
    "y_valid = valid_data['target']\n",
    "\n",
    "model = tf.keras.models.Sequential([\n",
    "  tf.keras.layers.Flatten(input_shape=(224, 224,3)),\n",
    "  tf.keras.layers.Dense(128, activation=tf.nn.relu),\n",
    "    tf.keras.layers.Dense(128, activation=tf.nn.relu),\n",
    "  tf.keras.layers.Dense(2, activation=tf.nn.softmax)\n",
    "])\n",
    "model.compile(optimizer='adam', loss='sparse_categorical_crossentropy', metrics=['accuracy'], )\n",
    "history = model.fit(X_train, y_train, epochs=10,validation_data=(X_valid,y_valid), callbacks = [callbacks])\n",
    "##\n",
    "test_loss, test_acc = model.evaluate(X_test, y_test)\n",
    "print(\"Test image accuracy :{}\".format(test_acc))\n",
    "##\n",
    "plt.plot(history.history['accuracy'], '-o' ,label='accuracy')\n",
    "plt.plot(history.history['val_accuracy'], '-o', label = 'val_accuracy')\n",
    "plt.xlabel('Epoch')\n",
    "plt.ylabel('Accuracy')\n",
    "plt.ylim([0.5, 1])\n",
    "plt.legend(loc='lower right')"
   ]
  },
  {
   "cell_type": "code",
   "execution_count": 7,
   "metadata": {
    "execution": {
     "iopub.execute_input": "2021-05-27T06:41:04.690170Z",
     "iopub.status.busy": "2021-05-27T06:41:04.689720Z",
     "iopub.status.idle": "2021-05-27T06:57:28.993284Z",
     "shell.execute_reply": "2021-05-27T06:57:28.991580Z",
     "shell.execute_reply.started": "2021-05-27T06:41:04.690137Z"
    }
   },
   "outputs": [
    {
     "name": "stdout",
     "output_type": "stream",
     "text": [
      "Epoch 1/10\n",
      "80/80 [==============================] - 119s 1s/step - loss: 11.4279 - accuracy: 0.5259 - val_loss: 0.5513 - val_accuracy: 0.7200\n",
      "Epoch 2/10\n",
      "80/80 [==============================] - 93s 1s/step - loss: 0.5614 - accuracy: 0.7082 - val_loss: 0.4862 - val_accuracy: 0.7400\n",
      "Epoch 3/10\n",
      "80/80 [==============================] - 94s 1s/step - loss: 0.3779 - accuracy: 0.8355 - val_loss: 0.4509 - val_accuracy: 0.7800\n",
      "Epoch 4/10\n",
      "80/80 [==============================] - 94s 1s/step - loss: 0.2309 - accuracy: 0.9264 - val_loss: 0.6161 - val_accuracy: 0.7100\n",
      "Epoch 5/10\n",
      "80/80 [==============================] - 94s 1s/step - loss: 0.1125 - accuracy: 0.9736 - val_loss: 0.5850 - val_accuracy: 0.7600\n",
      "Epoch 6/10\n",
      "80/80 [==============================] - 96s 1s/step - loss: 0.0487 - accuracy: 0.9920 - val_loss: 0.7002 - val_accuracy: 0.7300\n",
      "Epoch 7/10\n",
      "80/80 [==============================] - 104s 1s/step - loss: 0.0228 - accuracy: 0.9987 - val_loss: 0.8201 - val_accuracy: 0.7200\n",
      "Epoch 8/10\n",
      "80/80 [==============================] - 95s 1s/step - loss: 0.0121 - accuracy: 0.9996 - val_loss: 0.8354 - val_accuracy: 0.7300\n",
      "Epoch 9/10\n",
      "80/80 [==============================] - 94s 1s/step - loss: 0.0046 - accuracy: 1.0000 - val_loss: 0.8734 - val_accuracy: 0.7500\n",
      "Epoch 10/10\n",
      "80/80 [==============================] - 96s 1s/step - loss: 0.0032 - accuracy: 1.0000 - val_loss: 0.9039 - val_accuracy: 0.7600\n",
      "10/10 [==============================] - 3s 265ms/step - loss: 0.9307 - accuracy: 0.7733\n",
      "Test image accuracy :0.7733333110809326\n"
     ]
    },
    {
     "data": {
      "text/plain": [
       "<matplotlib.legend.Legend at 0x7fd0bd5a3e50>"
      ]
     },
     "execution_count": 7,
     "metadata": {},
     "output_type": "execute_result"
    },
    {
     "data": {
      "image/png": "[encoded data removed]",
      "text/plain": [
       "<Figure size 432x288 with 1 Axes>"
      ]
     },
     "metadata": {
      "needs_background": "light"
     },
     "output_type": "display_data"
    }
   ],
   "source": [
    "##  With convolution layer \n",
    "\n",
    "X_train = train_data['data']\n",
    "X_valid = valid_data['data']\n",
    "X_test = test_data['data']\n",
    "##\n",
    "y_train = train_data['target']\n",
    "y_test = test_data['target']\n",
    "y_valid = valid_data['target']\n",
    "\n",
    "model = tf.keras.models.Sequential([\n",
    "    tf.keras.layers.Conv2D( activation='relu', input_shape=(224, 224, 3), filters = 64, kernel_size = 3),\n",
    "    tf.keras.layers.MaxPooling2D(pool_size = (2,2), strides = (2, 2)),\n",
    "tf.keras.layers.Flatten(),\n",
    "tf.keras.layers.Dense(128, activation=tf.nn.relu),\n",
    "tf.keras.layers.Dense(2, activation=tf.nn.softmax)])\n",
    "\n",
    "\n",
    "model.compile(optimizer='adam', loss='sparse_categorical_crossentropy', metrics=['accuracy'], )\n",
    "history = model.fit(X_train, y_train, epochs=10,validation_data=(X_valid,y_valid))\n",
    "##\n",
    "test_loss, test_acc = model.evaluate(X_test, y_test)\n",
    "print(\"Test image accuracy :{}\".format(test_acc))\n",
    "##\n",
    "plt.plot(history.history['accuracy'], '-o' ,label='accuracy')\n",
    "plt.plot(history.history['val_accuracy'], '-o', label = 'val_accuracy')\n",
    "plt.xlabel('Epoch')\n",
    "plt.ylabel('Accuracy')\n",
    "plt.ylim([0.5, 1])\n",
    "plt.legend(loc='lower right')"
   ]
  },
  {
   "cell_type": "code",
   "execution_count": 7,
   "metadata": {
    "execution": {
     "iopub.execute_input": "2021-05-27T09:18:52.747659Z",
     "iopub.status.busy": "2021-05-27T09:18:52.746974Z",
     "iopub.status.idle": "2021-05-27T09:18:52.759611Z",
     "shell.execute_reply": "2021-05-27T09:18:52.758389Z",
     "shell.execute_reply.started": "2021-05-27T09:18:52.747612Z"
    }
   },
   "outputs": [],
   "source": [
    "def get_labels(prob_model, images):\n",
    "    predictions = prob_model.predict(images)\n",
    "\n",
    "    ## based on the max value of probability , predict the class.\n",
    "    predicted_labels = []\n",
    "    for i in range(len(predictions)):\n",
    "        pred_label = np.argmax(predictions[i])\n",
    "        predicted_labels.append(pred_label)\n",
    "    return predicted_labels\n"
   ]
  },
  {
   "cell_type": "code",
   "execution_count": 9,
   "metadata": {
    "execution": {
     "iopub.execute_input": "2021-05-27T06:58:34.220904Z",
     "iopub.status.busy": "2021-05-27T06:58:34.220466Z",
     "iopub.status.idle": "2021-05-27T06:58:36.888316Z",
     "shell.execute_reply": "2021-05-27T06:58:36.887103Z",
     "shell.execute_reply.started": "2021-05-27T06:58:34.220866Z"
    }
   },
   "outputs": [],
   "source": [
    "probability_model = tf.keras.Sequential([model, \n",
    "                                         tf.keras.layers.Softmax()])\n",
    "\n",
    "test_predicted_labels = get_labels(probability_model, X_test)\n"
   ]
  },
  {
   "cell_type": "code",
   "execution_count": 13,
   "metadata": {
    "execution": {
     "iopub.execute_input": "2021-05-27T07:00:02.212507Z",
     "iopub.status.busy": "2021-05-27T07:00:02.212010Z",
     "iopub.status.idle": "2021-05-27T07:00:02.225351Z",
     "shell.execute_reply": "2021-05-27T07:00:02.224295Z",
     "shell.execute_reply.started": "2021-05-27T07:00:02.212471Z"
    }
   },
   "outputs": [
    {
     "name": "stdout",
     "output_type": "stream",
     "text": [
      "Classification report :\n",
      "              precision    recall  f1-score   support\n",
      "\n",
      "           0       0.77      0.78      0.77       150\n",
      "           1       0.78      0.77      0.77       150\n",
      "\n",
      "    accuracy                           0.77       300\n",
      "   macro avg       0.77      0.77      0.77       300\n",
      "weighted avg       0.77      0.77      0.77       300\n",
      "\n",
      "\n"
     ]
    }
   ],
   "source": [
    "print(\"Classification report :\\n{}\\n\".format(\n",
    "     classification_report(y_test, test_predicted_labels)))"
   ]
  },
  {
   "cell_type": "code",
   "execution_count": 14,
   "metadata": {
    "execution": {
     "iopub.execute_input": "2021-05-27T07:00:30.831014Z",
     "iopub.status.busy": "2021-05-27T07:00:30.830649Z",
     "iopub.status.idle": "2021-05-27T07:24:52.489053Z",
     "shell.execute_reply": "2021-05-27T07:24:52.487626Z",
     "shell.execute_reply.started": "2021-05-27T07:00:30.830983Z"
    }
   },
   "outputs": [
    {
     "name": "stdout",
     "output_type": "stream",
     "text": [
      "Epoch 1/10\n",
      "80/80 [==============================] - 155s 2s/step - loss: 1.7005 - accuracy: 0.5886 - val_loss: 0.5561 - val_accuracy: 0.7100\n",
      "Epoch 2/10\n",
      "80/80 [==============================] - 144s 2s/step - loss: 0.5766 - accuracy: 0.7261 - val_loss: 0.6269 - val_accuracy: 0.7200\n",
      "Epoch 3/10\n",
      "80/80 [==============================] - 144s 2s/step - loss: 0.4303 - accuracy: 0.8059 - val_loss: 0.5746 - val_accuracy: 0.7400\n",
      "Epoch 4/10\n",
      "80/80 [==============================] - 145s 2s/step - loss: 0.2899 - accuracy: 0.8877 - val_loss: 0.8325 - val_accuracy: 0.6900\n",
      "Epoch 5/10\n",
      "80/80 [==============================] - 145s 2s/step - loss: 0.1647 - accuracy: 0.9433 - val_loss: 1.0642 - val_accuracy: 0.7100\n",
      "Epoch 6/10\n",
      "80/80 [==============================] - 145s 2s/step - loss: 0.0568 - accuracy: 0.9828 - val_loss: 1.4646 - val_accuracy: 0.6500\n",
      "Epoch 7/10\n",
      "80/80 [==============================] - 146s 2s/step - loss: 0.0223 - accuracy: 0.9954 - val_loss: 1.7463 - val_accuracy: 0.6800\n",
      "Epoch 8/10\n",
      "80/80 [==============================] - 144s 2s/step - loss: 0.0157 - accuracy: 0.9981 - val_loss: 1.7909 - val_accuracy: 0.7100\n",
      "Epoch 9/10\n",
      "80/80 [==============================] - 144s 2s/step - loss: 0.0135 - accuracy: 0.9981 - val_loss: 2.1828 - val_accuracy: 0.6700\n",
      "Epoch 10/10\n",
      "80/80 [==============================] - 144s 2s/step - loss: 0.0160 - accuracy: 0.9976 - val_loss: 2.2330 - val_accuracy: 0.7300\n",
      "10/10 [==============================] - 4s 373ms/step - loss: 1.9881 - accuracy: 0.7467\n",
      "Test image accuracy :0.746666669845581\n"
     ]
    },
    {
     "data": {
      "text/plain": [
       "<matplotlib.legend.Legend at 0x7fd061848bd0>"
      ]
     },
     "execution_count": 14,
     "metadata": {},
     "output_type": "execute_result"
    },
    {
     "data": {
      "image/png": "[encoded data removed]",
      "text/plain": [
       "<Figure size 432x288 with 1 Axes>"
      ]
     },
     "metadata": {
      "needs_background": "light"
     },
     "output_type": "display_data"
    }
   ],
   "source": [
    "##  With 2 convolution layers \n",
    "\n",
    "X_train = train_data['data']\n",
    "X_valid = valid_data['data']\n",
    "X_test = test_data['data']\n",
    "##\n",
    "y_train = train_data['target']\n",
    "y_test = test_data['target']\n",
    "y_valid = valid_data['target']\n",
    "\n",
    "model = tf.keras.models.Sequential([\n",
    "    tf.keras.layers.Conv2D( activation='relu', input_shape=(224, 224, 3), filters = 64, kernel_size = 3),\n",
    "    tf.keras.layers.MaxPooling2D(pool_size = (2,2), strides = (2, 2)),\n",
    "    tf.keras.layers.Conv2D( activation='relu', input_shape=(224, 224, 3), filters = 64, kernel_size = 3),\n",
    "    tf.keras.layers.MaxPooling2D(pool_size = (2,2), strides = (2, 2)),\n",
    "tf.keras.layers.Flatten(),\n",
    "tf.keras.layers.Dense(128, activation=tf.nn.relu),\n",
    "tf.keras.layers.Dense(2, activation=tf.nn.softmax)])\n",
    "\n",
    "\n",
    "model.compile(optimizer='adam', loss='sparse_categorical_crossentropy', metrics=['accuracy'], )\n",
    "history = model.fit(X_train, y_train, epochs=10,validation_data=(X_valid,y_valid))\n",
    "##\n",
    "test_loss, test_acc = model.evaluate(X_test, y_test)\n",
    "print(\"Test image accuracy :{}\".format(test_acc))\n",
    "##\n",
    "plt.plot(history.history['accuracy'], '-o' ,label='accuracy')\n",
    "plt.plot(history.history['val_accuracy'], '-o', label = 'val_accuracy')\n",
    "plt.xlabel('Epoch')\n",
    "plt.ylabel('Accuracy')\n",
    "plt.ylim([0.5, 1])\n",
    "plt.legend(loc='lower right')"
   ]
  },
  {
   "cell_type": "code",
   "execution_count": 16,
   "metadata": {
    "execution": {
     "iopub.execute_input": "2021-05-27T07:24:58.212692Z",
     "iopub.status.busy": "2021-05-27T07:24:58.212345Z",
     "iopub.status.idle": "2021-05-27T07:25:02.142789Z",
     "shell.execute_reply": "2021-05-27T07:25:02.141284Z",
     "shell.execute_reply.started": "2021-05-27T07:24:58.212668Z"
    }
   },
   "outputs": [],
   "source": [
    "probability_model = tf.keras.Sequential([model, \n",
    "                                         tf.keras.layers.Softmax()])\n",
    "\n",
    "test_predicted_labels = get_labels(probability_model, X_test)"
   ]
  },
  {
   "cell_type": "code",
   "execution_count": 17,
   "metadata": {
    "execution": {
     "iopub.execute_input": "2021-05-27T07:25:04.570990Z",
     "iopub.status.busy": "2021-05-27T07:25:04.570617Z",
     "iopub.status.idle": "2021-05-27T07:25:04.582140Z",
     "shell.execute_reply": "2021-05-27T07:25:04.580980Z",
     "shell.execute_reply.started": "2021-05-27T07:25:04.570960Z"
    }
   },
   "outputs": [
    {
     "name": "stdout",
     "output_type": "stream",
     "text": [
      "Classification report :\n",
      "              precision    recall  f1-score   support\n",
      "\n",
      "           0       0.71      0.85      0.77       150\n",
      "           1       0.81      0.65      0.72       150\n",
      "\n",
      "    accuracy                           0.75       300\n",
      "   macro avg       0.76      0.75      0.74       300\n",
      "weighted avg       0.76      0.75      0.74       300\n",
      "\n",
      "\n"
     ]
    }
   ],
   "source": [
    "print(\"Classification report :\\n{}\\n\".format(\n",
    "     classification_report(y_test, test_predicted_labels)))"
   ]
  },
  {
   "cell_type": "markdown",
   "metadata": {},
   "source": [
    "Decrease in accuracy with 2 convolution layers.  "
   ]
  },
  {
   "cell_type": "code",
   "execution_count": 18,
   "metadata": {
    "execution": {
     "iopub.execute_input": "2021-05-27T07:25:16.002456Z",
     "iopub.status.busy": "2021-05-27T07:25:16.002142Z",
     "iopub.status.idle": "2021-05-27T08:18:30.884839Z",
     "shell.execute_reply": "2021-05-27T08:18:30.883425Z",
     "shell.execute_reply.started": "2021-05-27T07:25:16.002427Z"
    }
   },
   "outputs": [
    {
     "name": "stdout",
     "output_type": "stream",
     "text": [
      "Epoch 1/20\n",
      "80/80 [==============================] - 163s 2s/step - loss: 0.9486 - accuracy: 0.5103 - val_loss: 0.5872 - val_accuracy: 0.6500\n",
      "Epoch 2/20\n",
      "80/80 [==============================] - 156s 2s/step - loss: 0.6067 - accuracy: 0.6739 - val_loss: 0.6400 - val_accuracy: 0.7000\n",
      "Epoch 3/20\n",
      "80/80 [==============================] - 157s 2s/step - loss: 0.5508 - accuracy: 0.7148 - val_loss: 0.5210 - val_accuracy: 0.7100\n",
      "Epoch 4/20\n",
      "80/80 [==============================] - 157s 2s/step - loss: 0.5229 - accuracy: 0.7547 - val_loss: 0.5463 - val_accuracy: 0.7200\n",
      "Epoch 5/20\n",
      "80/80 [==============================] - 158s 2s/step - loss: 0.4671 - accuracy: 0.7807 - val_loss: 0.5557 - val_accuracy: 0.7400\n",
      "Epoch 6/20\n",
      "80/80 [==============================] - 157s 2s/step - loss: 0.4258 - accuracy: 0.8065 - val_loss: 0.5314 - val_accuracy: 0.7500\n",
      "Epoch 7/20\n",
      "80/80 [==============================] - 160s 2s/step - loss: 0.3440 - accuracy: 0.8545 - val_loss: 0.5068 - val_accuracy: 0.7600\n",
      "Epoch 8/20\n",
      "80/80 [==============================] - 158s 2s/step - loss: 0.2702 - accuracy: 0.8844 - val_loss: 0.7313 - val_accuracy: 0.7200\n",
      "Epoch 9/20\n",
      "80/80 [==============================] - 158s 2s/step - loss: 0.1992 - accuracy: 0.9161 - val_loss: 0.4752 - val_accuracy: 0.7800\n",
      "Epoch 10/20\n",
      "80/80 [==============================] - 160s 2s/step - loss: 0.1053 - accuracy: 0.9634 - val_loss: 0.7356 - val_accuracy: 0.7400\n",
      "Epoch 11/20\n",
      "80/80 [==============================] - 159s 2s/step - loss: 0.0814 - accuracy: 0.9654 - val_loss: 0.6722 - val_accuracy: 0.7700\n",
      "Epoch 12/20\n",
      "80/80 [==============================] - 160s 2s/step - loss: 0.0332 - accuracy: 0.9911 - val_loss: 0.9690 - val_accuracy: 0.7600\n",
      "Epoch 13/20\n",
      "80/80 [==============================] - 159s 2s/step - loss: 0.0539 - accuracy: 0.9817 - val_loss: 1.1315 - val_accuracy: 0.7400\n",
      "Epoch 14/20\n",
      "80/80 [==============================] - 160s 2s/step - loss: 0.0189 - accuracy: 0.9948 - val_loss: 0.8994 - val_accuracy: 0.8300\n",
      "Epoch 15/20\n",
      "80/80 [==============================] - 160s 2s/step - loss: 0.0219 - accuracy: 0.9927 - val_loss: 1.0602 - val_accuracy: 0.7600\n",
      "Epoch 16/20\n",
      "80/80 [==============================] - 161s 2s/step - loss: 0.0072 - accuracy: 0.9987 - val_loss: 1.3080 - val_accuracy: 0.7500\n",
      "Epoch 17/20\n",
      "80/80 [==============================] - 162s 2s/step - loss: 0.0025 - accuracy: 1.0000 - val_loss: 1.3001 - val_accuracy: 0.7700\n",
      "Epoch 18/20\n",
      "80/80 [==============================] - 164s 2s/step - loss: 5.6542e-04 - accuracy: 1.0000 - val_loss: 1.4008 - val_accuracy: 0.7700\n",
      "Epoch 19/20\n",
      "80/80 [==============================] - 160s 2s/step - loss: 2.5375e-04 - accuracy: 1.0000 - val_loss: 1.4258 - val_accuracy: 0.7700\n",
      "Epoch 20/20\n",
      "80/80 [==============================] - 159s 2s/step - loss: 1.7902e-04 - accuracy: 1.0000 - val_loss: 1.4711 - val_accuracy: 0.7800\n",
      "10/10 [==============================] - 4s 438ms/step - loss: 2.0804 - accuracy: 0.7533\n",
      "Test image accuracy :0.753333330154419\n"
     ]
    },
    {
     "data": {
      "text/plain": [
       "<matplotlib.legend.Legend at 0x7fd06071d050>"
      ]
     },
     "execution_count": 18,
     "metadata": {},
     "output_type": "execute_result"
    },
    {
     "data": {
      "image/png": "[encoded data removed]",
      "text/plain": [
       "<Figure size 432x288 with 1 Axes>"
      ]
     },
     "metadata": {
      "needs_background": "light"
     },
     "output_type": "display_data"
    }
   ],
   "source": [
    "# 3 layers of convolution and pooling.\n",
    "##  \n",
    "X_train = train_data['data']\n",
    "X_valid = valid_data['data']\n",
    "X_test = test_data['data']\n",
    "##\n",
    "y_train = train_data['target']\n",
    "y_test = test_data['target']\n",
    "y_valid = valid_data['target']\n",
    "\n",
    "model = tf.keras.models.Sequential([\n",
    "    tf.keras.layers.Conv2D( activation='relu', input_shape=(224, 224, 3), filters = 64, kernel_size = 3),\n",
    "    tf.keras.layers.MaxPooling2D(pool_size = (2,2), strides = (2, 2)),\n",
    "    tf.keras.layers.Conv2D( activation='relu', input_shape=(224, 224, 3), filters = 64, kernel_size = 3),\n",
    "    tf.keras.layers.MaxPooling2D(pool_size = (2,2), strides = (2, 2)),\n",
    "    tf.keras.layers.Conv2D( activation='relu', input_shape=(224, 224, 3), filters = 64, kernel_size = 3),\n",
    "    tf.keras.layers.MaxPooling2D(pool_size = (2,2), strides = (2, 2)),\n",
    "tf.keras.layers.Flatten(),\n",
    "tf.keras.layers.Dense(128, activation=tf.nn.relu),\n",
    "tf.keras.layers.Dense(2, activation=tf.nn.softmax)])\n",
    "\n",
    "\n",
    "model.compile(optimizer='adam', loss='sparse_categorical_crossentropy', metrics=['accuracy'], )\n",
    "history = model.fit(X_train, y_train, epochs=20,validation_data=(X_valid,y_valid))\n",
    "##\n",
    "test_loss, test_acc = model.evaluate(X_test, y_test)\n",
    "print(\"Test image accuracy :{}\".format(test_acc))\n",
    "##\n",
    "plt.plot(history.history['accuracy'], '-o' ,label='accuracy')\n",
    "plt.plot(history.history['val_accuracy'], '-o', label = 'val_accuracy')\n",
    "plt.xlabel('Epoch')\n",
    "plt.ylabel('Accuracy')\n",
    "plt.ylim([0.5, 1])\n",
    "plt.legend(loc='lower right')"
   ]
  },
  {
   "cell_type": "code",
   "execution_count": 20,
   "metadata": {
    "execution": {
     "iopub.execute_input": "2021-05-27T08:20:25.447072Z",
     "iopub.status.busy": "2021-05-27T08:20:25.446730Z",
     "iopub.status.idle": "2021-05-27T08:20:29.984082Z",
     "shell.execute_reply": "2021-05-27T08:20:29.982434Z",
     "shell.execute_reply.started": "2021-05-27T08:20:25.447043Z"
    }
   },
   "outputs": [],
   "source": [
    "probability_model = tf.keras.Sequential([model, \n",
    "                                         tf.keras.layers.Softmax()])\n",
    "\n",
    "test_predicted_labels = get_labels(probability_model, X_test)"
   ]
  },
  {
   "cell_type": "code",
   "execution_count": null,
   "metadata": {
    "execution": {
     "iopub.execute_input": "2021-05-27T07:24:52.491224Z",
     "iopub.status.busy": "2021-05-27T07:24:52.490891Z",
     "iopub.status.idle": "2021-05-27T07:24:56.479388Z"
    }
   },
   "outputs": [],
   "source": [
    "probability_model = tf.keras.Sequential([model, \n",
    "                                         tf.keras.layers.Softmax()])\n",
    "\n",
    "test_predicted_labels = get_labels(probability_model, X_test)"
   ]
  },
  {
   "cell_type": "code",
   "execution_count": 21,
   "metadata": {
    "execution": {
     "iopub.execute_input": "2021-05-27T08:20:32.453357Z",
     "iopub.status.busy": "2021-05-27T08:20:32.453041Z",
     "iopub.status.idle": "2021-05-27T08:20:32.463000Z",
     "shell.execute_reply": "2021-05-27T08:20:32.461711Z",
     "shell.execute_reply.started": "2021-05-27T08:20:32.453327Z"
    }
   },
   "outputs": [
    {
     "name": "stdout",
     "output_type": "stream",
     "text": [
      "Classification report :\n",
      "              precision    recall  f1-score   support\n",
      "\n",
      "           0       0.75      0.77      0.76       150\n",
      "           1       0.76      0.74      0.75       150\n",
      "\n",
      "    accuracy                           0.75       300\n",
      "   macro avg       0.75      0.75      0.75       300\n",
      "weighted avg       0.75      0.75      0.75       300\n",
      "\n",
      "\n"
     ]
    }
   ],
   "source": [
    "print(\"Classification report :\\n{}\\n\".format(\n",
    "     classification_report(y_test, test_predicted_labels)))"
   ]
  },
  {
   "cell_type": "markdown",
   "metadata": {},
   "source": [
    "No improvement in accuracy with 3 convolution layers.  "
   ]
  },
  {
   "cell_type": "code",
   "execution_count": null,
   "metadata": {
    "execution": {
     "iopub.execute_input": "2021-05-27T09:18:52.762554Z",
     "iopub.status.busy": "2021-05-27T09:18:52.761670Z"
    }
   },
   "outputs": [
    {
     "name": "stdout",
     "output_type": "stream",
     "text": [
      "Epoch 1/10\n",
      "80/80 [==============================] - 11s 75ms/step - loss: 2.3611 - accuracy: 0.5461 - val_loss: 1.2006 - val_accuracy: 0.5400\n",
      "Epoch 2/10\n",
      "80/80 [==============================] - 5s 63ms/step - loss: 0.7452 - accuracy: 0.6731 - val_loss: 0.9808 - val_accuracy: 0.5900\n",
      "Epoch 3/10\n",
      "80/80 [==============================] - 5s 65ms/step - loss: 0.5629 - accuracy: 0.7316 - val_loss: 0.9010 - val_accuracy: 0.6900\n",
      "Epoch 4/10\n",
      "80/80 [==============================] - 5s 65ms/step - loss: 0.3903 - accuracy: 0.8217 - val_loss: 0.4774 - val_accuracy: 0.7500\n",
      "Epoch 5/10\n",
      "80/80 [==============================] - 5s 64ms/step - loss: 0.3142 - accuracy: 0.8760 - val_loss: 0.4903 - val_accuracy: 0.7500\n",
      "Epoch 6/10\n",
      "80/80 [==============================] - 5s 64ms/step - loss: 0.2732 - accuracy: 0.8885 - val_loss: 0.4861 - val_accuracy: 0.7700\n",
      "Epoch 7/10\n",
      "80/80 [==============================] - 5s 65ms/step - loss: 0.1955 - accuracy: 0.9485 - val_loss: 0.5423 - val_accuracy: 0.7500\n",
      "Epoch 8/10\n",
      "80/80 [==============================] - 5s 63ms/step - loss: 0.1901 - accuracy: 0.9456 - val_loss: 0.5352 - val_accuracy: 0.7400\n",
      "Epoch 9/10\n",
      "80/80 [==============================] - 5s 65ms/step - loss: 0.1389 - accuracy: 0.9790 - val_loss: 0.5777 - val_accuracy: 0.7200\n",
      "Epoch 10/10\n",
      "80/80 [==============================] - 5s 66ms/step - loss: 0.1213 - accuracy: 0.9772 - val_loss: 0.5108 - val_accuracy: 0.7600\n",
      "10/10 [==============================] - 0s 43ms/step - loss: 0.4693 - accuracy: 0.7767\n",
      "Test image accuracy :0.7766666412353516\n",
      "Epoch 1/10\n",
      "80/80 [==============================] - 6s 68ms/step - loss: 11.1110 - accuracy: 0.5549 - val_loss: 0.5774 - val_accuracy: 0.7000\n",
      "Epoch 2/10\n",
      "80/80 [==============================] - 5s 65ms/step - loss: 0.4751 - accuracy: 0.7870 - val_loss: 0.5110 - val_accuracy: 0.7600\n",
      "Epoch 3/10\n",
      "80/80 [==============================] - 5s 65ms/step - loss: 0.3148 - accuracy: 0.8686 - val_loss: 0.4745 - val_accuracy: 0.7800\n",
      "Epoch 4/10\n",
      "80/80 [==============================] - 5s 64ms/step - loss: 0.1951 - accuracy: 0.9439 - val_loss: 0.6198 - val_accuracy: 0.6900\n",
      "Epoch 5/10\n",
      "80/80 [==============================] - 5s 66ms/step - loss: 0.1232 - accuracy: 0.9742 - val_loss: 0.5752 - val_accuracy: 0.7500\n",
      "Epoch 6/10\n",
      "80/80 [==============================] - 5s 65ms/step - loss: 0.0649 - accuracy: 0.9904 - val_loss: 0.6263 - val_accuracy: 0.7700\n",
      "Epoch 7/10\n",
      "80/80 [==============================] - 5s 64ms/step - loss: 0.0387 - accuracy: 0.9980 - val_loss: 0.8082 - val_accuracy: 0.7600\n",
      "Epoch 8/10\n",
      "80/80 [==============================] - 5s 64ms/step - loss: 0.0145 - accuracy: 0.9989 - val_loss: 0.8127 - val_accuracy: 0.7700\n",
      "Epoch 9/10\n",
      "80/80 [==============================] - 5s 64ms/step - loss: 0.0127 - accuracy: 1.0000 - val_loss: 0.9602 - val_accuracy: 0.7600\n",
      "Epoch 10/10\n",
      "80/80 [==============================] - 5s 64ms/step - loss: 0.0062 - accuracy: 1.0000 - val_loss: 0.9522 - val_accuracy: 0.7600\n",
      "10/10 [==============================] - 0s 36ms/step - loss: 0.7474 - accuracy: 0.7800\n",
      "Test image accuracy :0.7799999713897705\n"
     ]
    }
   ],
   "source": [
    "##  For  the best model of the three above, change the learning rate and check performance\n",
    "##  \n",
    "\n",
    "X_train = train_data['data']\n",
    "X_valid = valid_data['data']\n",
    "X_test = test_data['data']\n",
    "##\n",
    "y_train = train_data['target']\n",
    "y_test = test_data['target']\n",
    "y_valid = valid_data['target']\n",
    "\n",
    "for lr in [0.0001, 0.001, 0.01]:\n",
    "     \n",
    "\n",
    "    model = tf.keras.models.Sequential([\n",
    "    tf.keras.layers.Conv2D( activation='relu', input_shape=(224, 224, 3), filters = 64, kernel_size = 3),\n",
    "    tf.keras.layers.MaxPooling2D(pool_size = (2,2), strides = (2, 2)),\n",
    "    tf.keras.layers.Flatten(),\n",
    "    tf.keras.layers.Dense(128, activation=tf.nn.relu),\n",
    "    tf.keras.layers.Dense(2, activation=tf.nn.softmax)])\n",
    "\n",
    "    optim = tf.keras.optimizers.Adam(learning_rate=lr)\n",
    "    model.compile(optimizer=optim, loss='sparse_categorical_crossentropy', metrics=['accuracy'], )\n",
    "    history = model.fit(X_train, y_train, epochs=10,validation_data=(X_valid,y_valid))\n",
    "    ##\n",
    "    test_loss, test_acc = model.evaluate(X_test, y_test)\n",
    "    print(\"Test image accuracy :{}\".format(test_acc))\n",
    "    ##\n",
    "    plt.figure()\n",
    "    plt.plot(history.history['accuracy'], '-o' ,label='accuracy')\n",
    "    plt.plot(history.history['val_accuracy'], '-o', label = 'val_accuracy')\n",
    "    plt.xlabel('Epoch')\n",
    "    plt.ylabel('Accuracy')\n",
    "    plt.ylim([0.5, 1])\n",
    "    plt.legend(loc='lower right')\n",
    "    plt.title(\"Learning  rate : \" + str(lr))"
   ]
  },
  {
   "cell_type": "markdown",
   "metadata": {},
   "source": [
    "Due to Kaggle RAM limitations, the run of the code above couldn't be completed.  "
   ]
  },
  {
   "cell_type": "code",
   "execution_count": null,
   "metadata": {
    "execution": {
     "iopub.execute_input": "2021-05-27T08:24:56.397502Z",
     "iopub.status.busy": "2021-05-27T08:24:56.397173Z"
    }
   },
   "outputs": [
    {
     "name": "stdout",
     "output_type": "stream",
     "text": [
      "Epoch 1/10\n",
      "80/80 [==============================] - 105s 1s/step - loss: 10.1224 - accuracy: 0.5876 - val_loss: 1.0829 - val_accuracy: 0.5000\n",
      "Epoch 2/10\n",
      "80/80 [==============================] - 103s 1s/step - loss: 0.4838 - accuracy: 0.7755 - val_loss: 0.6640 - val_accuracy: 0.6700\n",
      "Epoch 3/10\n",
      "80/80 [==============================] - 104s 1s/step - loss: 0.3152 - accuracy: 0.8819 - val_loss: 0.5445 - val_accuracy: 0.7200\n",
      "Epoch 4/10\n",
      "80/80 [==============================] - 104s 1s/step - loss: 0.1502 - accuracy: 0.9606 - val_loss: 0.6028 - val_accuracy: 0.6900\n",
      "Epoch 5/10\n",
      "80/80 [==============================] - 114s 1s/step - loss: 0.0863 - accuracy: 0.9835 - val_loss: 0.7463 - val_accuracy: 0.7400\n",
      "Epoch 6/10\n",
      "80/80 [==============================] - 105s 1s/step - loss: 0.0320 - accuracy: 0.9962 - val_loss: 0.7697 - val_accuracy: 0.7300\n",
      "Epoch 7/10\n",
      "80/80 [==============================] - 106s 1s/step - loss: 0.0386 - accuracy: 0.9963 - val_loss: 0.8035 - val_accuracy: 0.7600\n",
      "Epoch 8/10\n",
      "80/80 [==============================] - 107s 1s/step - loss: 0.0085 - accuracy: 0.9997 - val_loss: 0.7719 - val_accuracy: 0.7600\n",
      "Epoch 9/10\n",
      "80/80 [==============================] - 106s 1s/step - loss: 0.0051 - accuracy: 1.0000 - val_loss: 0.9449 - val_accuracy: 0.7600\n",
      "Epoch 10/10\n",
      "80/80 [==============================] - 106s 1s/step - loss: 0.0028 - accuracy: 1.0000 - val_loss: 0.8674 - val_accuracy: 0.7700\n",
      "10/10 [==============================] - 3s 263ms/step - loss: 0.9630 - accuracy: 0.7600\n",
      "Test image accuracy :0.7599999904632568\n",
      "Epoch 1/10\n",
      "80/80 [==============================] - 104s 1s/step - loss: 10.5217 - accuracy: 0.5671 - val_loss: 0.6245 - val_accuracy: 0.6600\n",
      "Epoch 2/10\n",
      "33/80 [===========>..................] - ETA: 1:00 - loss: 0.0077 - accuracy: 0.9981"
     ]
    }
   ],
   "source": [
    "## Adding dropout layer for regularization to the best model of the three \n",
    "##  \n",
    "\n",
    "X_train = train_data['data']\n",
    "X_valid = valid_data['data']\n",
    "X_test = test_data['data']\n",
    "##\n",
    "y_train = train_data['target']\n",
    "y_test = test_data['target']\n",
    "y_valid = valid_data['target']\n",
    "\n",
    "for d in [0.15,0.35,0.45]:\n",
    "    \n",
    "    \n",
    "\n",
    "    model = tf.keras.models.Sequential([\n",
    "    tf.keras.layers.Conv2D( activation='relu', input_shape=(224, 224, 3), filters = 64, kernel_size = 3),\n",
    "    tf.keras.layers.MaxPooling2D(pool_size = (2,2), strides = (2, 2)),\n",
    "        tf.keras.layers.Dropout(d),\n",
    "    tf.keras.layers.Flatten(),\n",
    "    tf.keras.layers.Dense(128, activation=tf.nn.relu),\n",
    "    tf.keras.layers.Dense(2, activation=tf.nn.softmax)])\n",
    "\n",
    "\n",
    "    model.compile(optimizer='adam', loss='sparse_categorical_crossentropy', metrics=['accuracy'], )\n",
    "    history = model.fit(X_train, y_train, epochs=10,validation_data=(X_valid,y_valid))\n",
    "    ##\n",
    "    test_loss, test_acc = model.evaluate(X_test, y_test)\n",
    "    print(\"Test image accuracy :{}\".format(test_acc))\n",
    "    ##\n",
    "    plt.figure()\n",
    "    plt.plot(history.history['accuracy'], '-o' ,label='accuracy')\n",
    "    plt.plot(history.history['val_accuracy'], '-o', label = 'val_accuracy')\n",
    "    plt.xlabel('Epoch')\n",
    "    plt.ylabel('Accuracy')\n",
    "    plt.ylim([0.5, 1])\n",
    "    plt.legend(loc='lower right')\n",
    "    plt.title(\"Dropout rate : \" + str(d))"
   ]
  },
  {
   "cell_type": "markdown",
   "metadata": {},
   "source": [
    "Due to Kaggle RAM limitations, the run of the code above couldn't be completed.  "
   ]
  },
  {
   "cell_type": "markdown",
   "metadata": {},
   "source": [
    "### Since Kaggle RAM was getting fully utilised , change the method of reading images for training.  "
   ]
  },
  {
   "cell_type": "code",
   "execution_count": 5,
   "metadata": {
    "execution": {
     "iopub.execute_input": "2021-05-28T04:21:11.632567Z",
     "iopub.status.busy": "2021-05-28T04:21:11.632147Z",
     "iopub.status.idle": "2021-05-28T04:21:11.639088Z",
     "shell.execute_reply": "2021-05-28T04:21:11.637732Z",
     "shell.execute_reply.started": "2021-05-28T04:21:11.632530Z"
    }
   },
   "outputs": [
    {
     "name": "stdout",
     "output_type": "stream",
     "text": [
      "/kaggle/input/autistic-children-data-set-traintestvalidate/train\n",
      "/kaggle/input/autistic-children-data-set-traintestvalidate/valid\n",
      "/kaggle/input/autistic-children-data-set-traintestvalidate/test\n"
     ]
    }
   ],
   "source": [
    "# Create a list with the filepaths for training and testing\n",
    "train_img_Path = \"/kaggle/input/autistic-children-data-set-traintestvalidate/train\"\n",
    "\n",
    "valid_img_Path = \"/kaggle/input/autistic-children-data-set-traintestvalidate/valid\"\n",
    "\n",
    "test_img_Path = \"/kaggle/input/autistic-children-data-set-traintestvalidate/test\"\n",
    "\n",
    "\n",
    "#img_Path = '../input/resized-plant2021/img_sz_256'\n",
    "print(train_img_Path)\n",
    "print(valid_img_Path)\n",
    "print(test_img_Path)\n"
   ]
  },
  {
   "cell_type": "code",
   "execution_count": 6,
   "metadata": {
    "execution": {
     "iopub.execute_input": "2021-05-28T04:21:15.735834Z",
     "iopub.status.busy": "2021-05-28T04:21:15.735416Z",
     "iopub.status.idle": "2021-05-28T04:21:17.183765Z",
     "shell.execute_reply": "2021-05-28T04:21:17.182638Z",
     "shell.execute_reply.started": "2021-05-28T04:21:15.735797Z"
    }
   },
   "outputs": [
    {
     "name": "stdout",
     "output_type": "stream",
     "text": [
      "Found 2536 images belonging to 2 classes.\n",
      "Found 100 images belonging to 2 classes.\n"
     ]
    }
   ],
   "source": [
    "from tensorflow.keras.preprocessing.image import ImageDataGenerator\n",
    "train_datagen = ImageDataGenerator(\n",
    "        rescale=1./255,\n",
    "        shear_range=0.2,\n",
    "        zoom_range=0.2,\n",
    "        horizontal_flip=True)\n",
    "test_datagen = ImageDataGenerator(rescale=1./255)\n",
    "train_generator = train_datagen.flow_from_directory(\n",
    "        train_img_Path,\n",
    "        target_size=(224, 224),\n",
    "        batch_size=32,\n",
    "        class_mode = 'binary',\n",
    "        shuffle = 'False'\n",
    "        )\n",
    "validation_generator = test_datagen.flow_from_directory(\n",
    "        valid_img_Path,\n",
    "        target_size=(224, 224),\n",
    "        batch_size=32,\n",
    "        class_mode = 'binary',\n",
    "    shuffle = 'False'\n",
    "        )\n"
   ]
  },
  {
   "cell_type": "code",
   "execution_count": 7,
   "metadata": {
    "execution": {
     "iopub.execute_input": "2021-05-28T04:21:28.262913Z",
     "iopub.status.busy": "2021-05-28T04:21:28.262560Z",
     "iopub.status.idle": "2021-05-28T04:21:28.271188Z",
     "shell.execute_reply": "2021-05-28T04:21:28.270022Z",
     "shell.execute_reply.started": "2021-05-28T04:21:28.262883Z"
    }
   },
   "outputs": [
    {
     "data": {
      "text/plain": [
       "{'autistic': 0, 'non_autistic': 1}"
      ]
     },
     "execution_count": 7,
     "metadata": {},
     "output_type": "execute_result"
    }
   ],
   "source": [
    "dict_classes = train_generator.class_indices\n",
    "dict_classes"
   ]
  },
  {
   "cell_type": "code",
   "execution_count": 8,
   "metadata": {
    "execution": {
     "iopub.execute_input": "2021-05-28T04:21:34.875314Z",
     "iopub.status.busy": "2021-05-28T04:21:34.874896Z",
     "iopub.status.idle": "2021-05-28T06:10:07.359223Z",
     "shell.execute_reply": "2021-05-28T06:10:07.358373Z",
     "shell.execute_reply.started": "2021-05-28T04:21:34.875273Z"
    }
   },
   "outputs": [
    {
     "name": "stdout",
     "output_type": "stream",
     "text": [
      "Epoch 1/50\n",
      "80/80 [==============================] - 133s 2s/step - loss: 11.0832 - accuracy: 0.5463 - val_loss: 0.5734 - val_accuracy: 0.6800\n",
      "Epoch 2/50\n",
      "80/80 [==============================] - 129s 2s/step - loss: 0.5905 - accuracy: 0.6906 - val_loss: 0.5873 - val_accuracy: 0.6700\n",
      "Epoch 3/50\n",
      "80/80 [==============================] - 130s 2s/step - loss: 0.5673 - accuracy: 0.7118 - val_loss: 0.5301 - val_accuracy: 0.7300\n",
      "Epoch 4/50\n",
      "80/80 [==============================] - 131s 2s/step - loss: 0.5237 - accuracy: 0.7495 - val_loss: 0.5102 - val_accuracy: 0.7600\n",
      "Epoch 5/50\n",
      "80/80 [==============================] - 130s 2s/step - loss: 0.5414 - accuracy: 0.7206 - val_loss: 0.5408 - val_accuracy: 0.7200\n",
      "Epoch 6/50\n",
      "80/80 [==============================] - 130s 2s/step - loss: 0.5215 - accuracy: 0.7481 - val_loss: 0.5229 - val_accuracy: 0.7200\n",
      "Epoch 7/50\n",
      "80/80 [==============================] - 130s 2s/step - loss: 0.5388 - accuracy: 0.7239 - val_loss: 0.5041 - val_accuracy: 0.7500\n",
      "Epoch 8/50\n",
      "80/80 [==============================] - 130s 2s/step - loss: 0.4958 - accuracy: 0.7711 - val_loss: 0.4475 - val_accuracy: 0.8200\n",
      "Epoch 9/50\n",
      "80/80 [==============================] - 130s 2s/step - loss: 0.4828 - accuracy: 0.7758 - val_loss: 0.5060 - val_accuracy: 0.7400\n",
      "Epoch 10/50\n",
      "80/80 [==============================] - 130s 2s/step - loss: 0.4807 - accuracy: 0.7728 - val_loss: 0.4412 - val_accuracy: 0.7900\n",
      "Epoch 11/50\n",
      "80/80 [==============================] - 130s 2s/step - loss: 0.4791 - accuracy: 0.7779 - val_loss: 0.5066 - val_accuracy: 0.7300\n",
      "Epoch 12/50\n",
      "80/80 [==============================] - 130s 2s/step - loss: 0.4523 - accuracy: 0.7814 - val_loss: 0.5110 - val_accuracy: 0.7500\n",
      "Epoch 13/50\n",
      "80/80 [==============================] - 130s 2s/step - loss: 0.4365 - accuracy: 0.8008 - val_loss: 0.4322 - val_accuracy: 0.8100\n",
      "Epoch 14/50\n",
      "80/80 [==============================] - 130s 2s/step - loss: 0.4320 - accuracy: 0.7866 - val_loss: 0.5214 - val_accuracy: 0.7300\n",
      "Epoch 15/50\n",
      "80/80 [==============================] - 130s 2s/step - loss: 0.4128 - accuracy: 0.8161 - val_loss: 0.5054 - val_accuracy: 0.7500\n",
      "Epoch 16/50\n",
      "80/80 [==============================] - 130s 2s/step - loss: 0.4034 - accuracy: 0.8070 - val_loss: 0.4972 - val_accuracy: 0.7500\n",
      "Epoch 17/50\n",
      "80/80 [==============================] - 130s 2s/step - loss: 0.3947 - accuracy: 0.8171 - val_loss: 0.4855 - val_accuracy: 0.8100\n",
      "Epoch 18/50\n",
      "80/80 [==============================] - 130s 2s/step - loss: 0.3676 - accuracy: 0.8349 - val_loss: 0.5823 - val_accuracy: 0.7500\n",
      "Epoch 19/50\n",
      "80/80 [==============================] - 130s 2s/step - loss: 0.3755 - accuracy: 0.8428 - val_loss: 0.4888 - val_accuracy: 0.7800\n",
      "Epoch 20/50\n",
      "80/80 [==============================] - 129s 2s/step - loss: 0.3709 - accuracy: 0.8333 - val_loss: 0.4611 - val_accuracy: 0.8100\n",
      "Epoch 21/50\n",
      "80/80 [==============================] - 130s 2s/step - loss: 0.3666 - accuracy: 0.8419 - val_loss: 0.5355 - val_accuracy: 0.7800\n",
      "Epoch 22/50\n",
      "80/80 [==============================] - 131s 2s/step - loss: 0.3373 - accuracy: 0.8546 - val_loss: 0.5609 - val_accuracy: 0.7300\n",
      "Epoch 23/50\n",
      "80/80 [==============================] - 131s 2s/step - loss: 0.3304 - accuracy: 0.8382 - val_loss: 0.5213 - val_accuracy: 0.8000\n",
      "Epoch 24/50\n",
      "80/80 [==============================] - 131s 2s/step - loss: 0.3064 - accuracy: 0.8746 - val_loss: 0.5550 - val_accuracy: 0.8000\n",
      "Epoch 25/50\n",
      "80/80 [==============================] - 130s 2s/step - loss: 0.3226 - accuracy: 0.8633 - val_loss: 0.5051 - val_accuracy: 0.7900\n",
      "Epoch 26/50\n",
      "80/80 [==============================] - 131s 2s/step - loss: 0.3245 - accuracy: 0.8613 - val_loss: 0.5040 - val_accuracy: 0.7700\n",
      "Epoch 27/50\n",
      "80/80 [==============================] - 131s 2s/step - loss: 0.3217 - accuracy: 0.8616 - val_loss: 0.5274 - val_accuracy: 0.8000\n",
      "Epoch 28/50\n",
      "80/80 [==============================] - 130s 2s/step - loss: 0.3072 - accuracy: 0.8653 - val_loss: 0.6016 - val_accuracy: 0.7500\n",
      "Epoch 29/50\n",
      "80/80 [==============================] - 131s 2s/step - loss: 0.2769 - accuracy: 0.8865 - val_loss: 0.4935 - val_accuracy: 0.8100\n",
      "Epoch 30/50\n",
      "80/80 [==============================] - 131s 2s/step - loss: 0.3055 - accuracy: 0.8773 - val_loss: 0.5860 - val_accuracy: 0.7300\n",
      "Epoch 31/50\n",
      "80/80 [==============================] - 130s 2s/step - loss: 0.2767 - accuracy: 0.8870 - val_loss: 0.7039 - val_accuracy: 0.7500\n",
      "Epoch 32/50\n",
      "80/80 [==============================] - 131s 2s/step - loss: 0.2989 - accuracy: 0.8660 - val_loss: 0.6109 - val_accuracy: 0.7900\n",
      "Epoch 33/50\n",
      "80/80 [==============================] - 131s 2s/step - loss: 0.2660 - accuracy: 0.8877 - val_loss: 0.6526 - val_accuracy: 0.7700\n",
      "Epoch 34/50\n",
      "80/80 [==============================] - 130s 2s/step - loss: 0.2768 - accuracy: 0.8850 - val_loss: 0.7300 - val_accuracy: 0.8000\n",
      "Epoch 35/50\n",
      "80/80 [==============================] - 131s 2s/step - loss: 0.2392 - accuracy: 0.9034 - val_loss: 0.5982 - val_accuracy: 0.8100\n",
      "Epoch 36/50\n",
      "80/80 [==============================] - 131s 2s/step - loss: 0.2171 - accuracy: 0.9097 - val_loss: 0.6438 - val_accuracy: 0.7500\n",
      "Epoch 37/50\n",
      "80/80 [==============================] - 130s 2s/step - loss: 0.2054 - accuracy: 0.9238 - val_loss: 0.7087 - val_accuracy: 0.7600\n",
      "Epoch 38/50\n",
      "80/80 [==============================] - 129s 2s/step - loss: 0.2142 - accuracy: 0.9156 - val_loss: 0.7550 - val_accuracy: 0.7400\n",
      "Epoch 39/50\n",
      "80/80 [==============================] - 130s 2s/step - loss: 0.2027 - accuracy: 0.9220 - val_loss: 0.7257 - val_accuracy: 0.8000\n",
      "Epoch 40/50\n",
      "80/80 [==============================] - 130s 2s/step - loss: 0.1875 - accuracy: 0.9272 - val_loss: 0.7639 - val_accuracy: 0.7400\n",
      "Epoch 41/50\n",
      "80/80 [==============================] - 129s 2s/step - loss: 0.2366 - accuracy: 0.8967 - val_loss: 0.6478 - val_accuracy: 0.8000\n",
      "Epoch 42/50\n",
      "80/80 [==============================] - 130s 2s/step - loss: 0.1708 - accuracy: 0.9372 - val_loss: 0.6827 - val_accuracy: 0.7400\n",
      "Epoch 43/50\n",
      "80/80 [==============================] - 129s 2s/step - loss: 0.1897 - accuracy: 0.9205 - val_loss: 0.7605 - val_accuracy: 0.7600\n",
      "Epoch 44/50\n",
      "80/80 [==============================] - 129s 2s/step - loss: 0.1835 - accuracy: 0.9343 - val_loss: 0.7337 - val_accuracy: 0.7600\n",
      "Epoch 45/50\n",
      "80/80 [==============================] - 130s 2s/step - loss: 0.1690 - accuracy: 0.9370 - val_loss: 0.7026 - val_accuracy: 0.7900\n",
      "Epoch 46/50\n",
      "80/80 [==============================] - 130s 2s/step - loss: 0.1642 - accuracy: 0.9360 - val_loss: 0.7768 - val_accuracy: 0.7300\n",
      "Epoch 47/50\n",
      "80/80 [==============================] - 131s 2s/step - loss: 0.1798 - accuracy: 0.9298 - val_loss: 0.6484 - val_accuracy: 0.7600\n",
      "Epoch 48/50\n",
      "80/80 [==============================] - 130s 2s/step - loss: 0.1621 - accuracy: 0.9364 - val_loss: 0.7447 - val_accuracy: 0.7900\n",
      "Epoch 49/50\n",
      "80/80 [==============================] - 130s 2s/step - loss: 0.1361 - accuracy: 0.9454 - val_loss: 0.9458 - val_accuracy: 0.7900\n",
      "Epoch 50/50\n",
      "80/80 [==============================] - 130s 2s/step - loss: 0.1290 - accuracy: 0.9488 - val_loss: 0.7662 - val_accuracy: 0.7600\n"
     ]
    },
    {
     "data": {
      "text/plain": [
       "<matplotlib.legend.Legend at 0x7fca2044ba50>"
      ]
     },
     "execution_count": 8,
     "metadata": {},
     "output_type": "execute_result"
    },
    {
     "data": {
      "image/png": "[encoded data removed]",
      "text/plain": [
       "<Figure size 432x288 with 1 Axes>"
      ]
     },
     "metadata": {
      "needs_background": "light"
     },
     "output_type": "display_data"
    }
   ],
   "source": [
    "## model with data_generator \n",
    "model = tf.keras.models.Sequential([\n",
    "    tf.keras.layers.Conv2D( activation='relu', input_shape=(224, 224, 3), filters = 64, kernel_size = 3),\n",
    "    tf.keras.layers.MaxPooling2D(pool_size = (2,2), strides = (2, 2)),\n",
    "tf.keras.layers.Flatten(),\n",
    "tf.keras.layers.Dense(128, activation=tf.nn.relu),\n",
    "tf.keras.layers.Dense(2, activation=tf.nn.softmax)])\n",
    "\n",
    "\n",
    "model.compile(optimizer='adam', loss='sparse_categorical_crossentropy', metrics=['accuracy'], )\n",
    "history = model.fit(train_generator, epochs=50,validation_data=validation_generator)\n",
    "##\n",
    "#test_loss, test_acc = model.evaluate(X_test, y_test)\n",
    "#print(\"Test image accuracy :{}\".format(test_acc))\n",
    "##\n",
    "plt.plot(history.history['accuracy'], '-o' ,label='accuracy')\n",
    "plt.plot(history.history['val_accuracy'], '-o', label = 'val_accuracy')\n",
    "plt.xlabel('Epoch')\n",
    "plt.ylabel('Accuracy')\n",
    "plt.ylim([0.5, 1])\n",
    "plt.legend(loc='lower right')"
   ]
  },
  {
   "cell_type": "code",
   "execution_count": 10,
   "metadata": {
    "execution": {
     "iopub.execute_input": "2021-05-28T06:21:37.702223Z",
     "iopub.status.busy": "2021-05-28T06:21:37.701737Z",
     "iopub.status.idle": "2021-05-28T06:21:42.686770Z",
     "shell.execute_reply": "2021-05-28T06:21:42.685801Z",
     "shell.execute_reply.started": "2021-05-28T06:21:37.702171Z"
    }
   },
   "outputs": [
    {
     "name": "stdout",
     "output_type": "stream",
     "text": [
      "Found 300 images belonging to 2 classes.\n",
      "10/10 [==============================] - 4s 377ms/step - loss: 0.7790 - accuracy: 0.7667\n",
      "Test image accuracy :0.7666666507720947\n"
     ]
    }
   ],
   "source": [
    "test_generator = test_datagen.flow_from_directory(\n",
    "        test_img_Path,\n",
    "        target_size=(224, 224),\n",
    "        batch_size=32,\n",
    "        class_mode = 'binary',\n",
    "    shuffle = 'False'\n",
    "        )\n",
    "test_loss, test_acc = model.evaluate(test_generator)\n",
    "print(\"Test image accuracy :{}\".format(test_acc))"
   ]
  },
  {
   "cell_type": "code",
   "execution_count": null,
   "metadata": {
    "execution": {
     "iopub.execute_input": "2021-05-28T06:26:14.589166Z",
     "iopub.status.busy": "2021-05-28T06:26:14.588762Z"
    }
   },
   "outputs": [
    {
     "name": "stdout",
     "output_type": "stream",
     "text": [
      "Epoch 1/50\n",
      "80/80 [==============================] - 146s 2s/step - loss: 12.8651 - accuracy: 0.5231 - val_loss: 0.5434 - val_accuracy: 0.7000\n",
      "Epoch 2/50\n",
      "80/80 [==============================] - 145s 2s/step - loss: 0.5498 - accuracy: 0.7254 - val_loss: 0.4757 - val_accuracy: 0.7700\n",
      "Epoch 4/50\n",
      "80/80 [==============================] - 147s 2s/step - loss: 0.5281 - accuracy: 0.7431 - val_loss: 0.4732 - val_accuracy: 0.7400\n",
      "Epoch 5/50\n",
      "80/80 [==============================] - 145s 2s/step - loss: 0.5156 - accuracy: 0.7486 - val_loss: 0.4445 - val_accuracy: 0.7800\n",
      "Epoch 6/50\n",
      "80/80 [==============================] - 147s 2s/step - loss: 0.5075 - accuracy: 0.7509 - val_loss: 0.4998 - val_accuracy: 0.7800\n",
      "Epoch 7/50\n",
      "80/80 [==============================] - 146s 2s/step - loss: 0.5219 - accuracy: 0.7429 - val_loss: 0.4418 - val_accuracy: 0.7600\n",
      "Epoch 8/50\n",
      "80/80 [==============================] - 146s 2s/step - loss: 0.4921 - accuracy: 0.7573 - val_loss: 0.4172 - val_accuracy: 0.8300\n",
      "Epoch 9/50\n",
      "80/80 [==============================] - 145s 2s/step - loss: 0.4621 - accuracy: 0.7722 - val_loss: 0.4827 - val_accuracy: 0.7600\n",
      "Epoch 10/50\n",
      "80/80 [==============================] - 146s 2s/step - loss: 0.4557 - accuracy: 0.7962 - val_loss: 0.4627 - val_accuracy: 0.8100\n",
      "Epoch 16/50\n",
      "80/80 [==============================] - 145s 2s/step - loss: 0.4467 - accuracy: 0.8005 - val_loss: 0.4538 - val_accuracy: 0.7700\n",
      "Epoch 17/50\n",
      "80/80 [==============================] - 144s 2s/step - loss: 0.4147 - accuracy: 0.8058 - val_loss: 0.4607 - val_accuracy: 0.7600\n",
      "Epoch 18/50\n",
      "80/80 [==============================] - 144s 2s/step - loss: 0.3893 - accuracy: 0.8329 - val_loss: 0.4578 - val_accuracy: 0.8200\n",
      "Epoch 19/50\n",
      "80/80 [==============================] - 144s 2s/step - loss: 0.4281 - accuracy: 0.7968 - val_loss: 0.4613 - val_accuracy: 0.7800\n",
      "Epoch 20/50\n",
      "80/80 [==============================] - 144s 2s/step - loss: 0.4155 - accuracy: 0.8123 - val_loss: 0.4878 - val_accuracy: 0.7600\n",
      "Epoch 21/50\n",
      "80/80 [==============================] - 144s 2s/step - loss: 0.4129 - accuracy: 0.8065 - val_loss: 0.4328 - val_accuracy: 0.7900\n",
      "Epoch 22/50\n",
      "80/80 [==============================] - 143s 2s/step - loss: 0.3730 - accuracy: 0.8392 - val_loss: 0.4514 - val_accuracy: 0.8100\n",
      "Epoch 23/50\n",
      "80/80 [==============================] - 143s 2s/step - loss: 0.4008 - accuracy: 0.8215 - val_loss: 0.4465 - val_accuracy: 0.7800\n",
      "Epoch 24/50\n",
      "80/80 [==============================] - 144s 2s/step - loss: 0.3772 - accuracy: 0.8377 - val_loss: 0.4920 - val_accuracy: 0.7400\n",
      "Epoch 25/50\n",
      "80/80 [==============================] - 144s 2s/step - loss: 0.3894 - accuracy: 0.8204 - val_loss: 0.4590 - val_accuracy: 0.7500\n",
      "Epoch 26/50\n",
      "80/80 [==============================] - 144s 2s/step - loss: 0.3553 - accuracy: 0.8402 - val_loss: 0.5618 - val_accuracy: 0.7300\n",
      "Epoch 27/50\n",
      "80/80 [==============================] - 145s 2s/step - loss: 0.3629 - accuracy: 0.8422 - val_loss: 0.4207 - val_accuracy: 0.8100\n",
      "Epoch 29/50\n",
      "80/80 [==============================] - 145s 2s/step - loss: 0.3551 - accuracy: 0.8423 - val_loss: 0.4919 - val_accuracy: 0.7500\n",
      "Epoch 30/50\n",
      "80/80 [==============================] - 144s 2s/step - loss: 0.3611 - accuracy: 0.8494 - val_loss: 0.4441 - val_accuracy: 0.8200\n",
      "Epoch 31/50\n",
      "80/80 [==============================] - 144s 2s/step - loss: 0.3281 - accuracy: 0.8642 - val_loss: 0.4459 - val_accuracy: 0.8200\n",
      "Epoch 32/50\n",
      "80/80 [==============================] - 143s 2s/step - loss: 0.3515 - accuracy: 0.8449 - val_loss: 0.4518 - val_accuracy: 0.7900\n",
      "Epoch 33/50\n",
      "80/80 [==============================] - 143s 2s/step - loss: 0.3299 - accuracy: 0.8473 - val_loss: 0.3970 - val_accuracy: 0.8200\n",
      "Epoch 34/50\n",
      "80/80 [==============================] - 145s 2s/step - loss: 0.3316 - accuracy: 0.8585 - val_loss: 0.5477 - val_accuracy: 0.8200\n",
      "Epoch 35/50\n",
      "80/80 [==============================] - 145s 2s/step - loss: 0.3439 - accuracy: 0.8486 - val_loss: 0.4345 - val_accuracy: 0.8300\n",
      "Epoch 36/50\n",
      "80/80 [==============================] - 144s 2s/step - loss: 0.3412 - accuracy: 0.8497 - val_loss: 0.5549 - val_accuracy: 0.7400\n",
      "Epoch 37/50\n",
      "80/80 [==============================] - 143s 2s/step - loss: 0.3348 - accuracy: 0.8594 - val_loss: 0.5184 - val_accuracy: 0.7500\n",
      "Epoch 38/50\n",
      "80/80 [==============================] - 143s 2s/step - loss: 0.2995 - accuracy: 0.8684 - val_loss: 0.5288 - val_accuracy: 0.8400\n",
      "Epoch 39/50\n",
      "80/80 [==============================] - 143s 2s/step - loss: 0.3526 - accuracy: 0.8502 - val_loss: 0.5248 - val_accuracy: 0.7700\n",
      "Epoch 40/50\n",
      "80/80 [==============================] - 145s 2s/step - loss: 0.3113 - accuracy: 0.8661 - val_loss: 0.5970 - val_accuracy: 0.7800\n",
      "Epoch 41/50\n",
      "80/80 [==============================] - 144s 2s/step - loss: 0.3393 - accuracy: 0.8418 - val_loss: 0.5562 - val_accuracy: 0.7900\n",
      "Epoch 43/50\n",
      "80/80 [==============================] - 144s 2s/step - loss: 0.3170 - accuracy: 0.8611 - val_loss: 0.5662 - val_accuracy: 0.8100\n",
      "Epoch 44/50\n",
      "80/80 [==============================] - 144s 2s/step - loss: 0.3005 - accuracy: 0.8710 - val_loss: 0.5834 - val_accuracy: 0.7200\n",
      "Epoch 45/50\n",
      "80/80 [==============================] - 145s 2s/step - loss: 0.2873 - accuracy: 0.8786 - val_loss: 0.6660 - val_accuracy: 0.7200\n",
      "Epoch 46/50\n",
      "80/80 [==============================] - 144s 2s/step - loss: 0.2848 - accuracy: 0.8815 - val_loss: 0.6237 - val_accuracy: 0.7800\n",
      "Epoch 47/50\n",
      "80/80 [==============================] - 144s 2s/step - loss: 0.2580 - accuracy: 0.9016 - val_loss: 0.6643 - val_accuracy: 0.7700\n",
      "Epoch 48/50\n",
      "80/80 [==============================] - 143s 2s/step - loss: 0.2726 - accuracy: 0.8760 - val_loss: 0.7066 - val_accuracy: 0.7500\n",
      "Epoch 49/50\n",
      "80/80 [==============================] - 144s 2s/step - loss: 0.2582 - accuracy: 0.8928 - val_loss: 0.7075 - val_accuracy: 0.7700\n",
      "Epoch 50/50\n",
      " 8/80 [==>...........................] - ETA: 2:07 - loss: 0.2286 - accuracy: 0.9004"
     ]
    }
   ],
   "source": [
    "##  Add dropout rate for regularization\n",
    "for d in [0.1,0.2,0.3,0.4,0.5]:\n",
    "    \n",
    "    model = tf.keras.models.Sequential([\n",
    "    tf.keras.layers.Conv2D( activation='relu', input_shape=(224, 224, 3), filters = 64, kernel_size = 3),\n",
    "    tf.keras.layers.MaxPooling2D(pool_size = (2,2), strides = (2, 2)),\n",
    "    tf.keras.layers.Dropout(d),\n",
    "    tf.keras.layers.Flatten(),\n",
    "    tf.keras.layers.Dense(128, activation=tf.nn.relu),\n",
    "    tf.keras.layers.Dense(2, activation=tf.nn.softmax)])\n",
    "\n",
    "\n",
    "    model.compile(optimizer='adam', loss='sparse_categorical_crossentropy', metrics=['accuracy'], )\n",
    "    history = model.fit(train_generator, epochs=50,validation_data=validation_generator)\n",
    "    ##\n",
    "    test_loss, test_acc = model.evaluate(test_generator)\n",
    "    print(\"Test image accuracy :{}\".format(test_acc))\n",
    "    ##\n",
    "    plt.figure()\n",
    "    plt.plot(history.history['accuracy'], '-o' ,label='accuracy')\n",
    "    plt.plot(history.history['val_accuracy'], '-o', label = 'val_accuracy')\n",
    "    plt.xlabel('Epoch')\n",
    "    plt.ylabel('Accuracy')\n",
    "    plt.ylim([0.5, 1])\n",
    "    plt.legend(loc='lower right')\n",
    "    plt.title(\"Drop out rate : \" + str(d))"
   ]
  },
  {
   "cell_type": "markdown",
   "metadata": {},
   "source": [
    "Due to Kaggle RAM limitations, the run of the code above couldn't be completed.  "
   ]
  }
 ],
 "metadata": {
  "kernelspec": {
   "display_name": "Python 3",
   "language": "python",
   "name": "python3"
  },
  "language_info": {
   "codemirror_mode": {
    "name": "ipython",
    "version": 3
   },
   "file_extension": ".py",
   "mimetype": "text/x-python",
   "name": "python",
   "nbconvert_exporter": "python",
   "pygments_lexer": "ipython3",
   "version": "3.8.3"
  }
 },
 "nbformat": 4,
 "nbformat_minor": 4
}
