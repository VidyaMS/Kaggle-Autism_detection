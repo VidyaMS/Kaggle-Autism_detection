{
 "cells": [
  {
   "cell_type": "code",
   "execution_count": null,
   "metadata": {
    "execution": {
     "iopub.execute_input": "2021-05-27T09:24:00.057485Z",
     "iopub.status.busy": "2021-05-27T09:24:00.057058Z",
     "iopub.status.idle": "2021-05-27T09:24:03.501097Z",
     "shell.execute_reply": "2021-05-27T09:24:03.498564Z",
     "shell.execute_reply.started": "2021-05-27T09:24:00.057451Z"
    }
   },
   "outputs": [],
   "source": [
    "## get the full path name of the train_images and test_images \n",
    "for dirname, _, filenames in os.walk('/kaggle/input'):\n",
    "    for filename in filenames:\n",
    "        print(os.path.join(dirname, filename))\n",
    "        break"
   ]
  },
  {
   "cell_type": "code",
   "execution_count": 4,
   "metadata": {
    "execution": {
     "iopub.execute_input": "2021-05-30T12:00:08.493296Z",
     "iopub.status.busy": "2021-05-30T12:00:08.492825Z",
     "iopub.status.idle": "2021-05-30T12:00:09.768535Z",
     "shell.execute_reply": "2021-05-30T12:00:09.767405Z",
     "shell.execute_reply.started": "2021-05-30T12:00:08.493263Z"
    }
   },
   "outputs": [],
   "source": [
    "from pathlib import Path\n",
    "import matplotlib.pyplot as plt\n",
    "import numpy as np\n",
    "import pandas as pd\n",
    "%matplotlib inline\n",
    "\n",
    "from sklearn.utils import Bunch\n",
    "from sklearn.model_selection import GridSearchCV\n",
    "from sklearn.metrics import classification_report\n",
    "\n",
    "import skimage\n",
    "from skimage.io import imread\n",
    "from skimage.transform import resize"
   ]
  },
  {
   "cell_type": "code",
   "execution_count": 5,
   "metadata": {
    "execution": {
     "iopub.execute_input": "2021-05-30T12:00:14.655048Z",
     "iopub.status.busy": "2021-05-30T12:00:14.654610Z",
     "iopub.status.idle": "2021-05-30T12:00:14.663576Z",
     "shell.execute_reply": "2021-05-30T12:00:14.662223Z",
     "shell.execute_reply.started": "2021-05-30T12:00:14.655016Z"
    }
   },
   "outputs": [],
   "source": [
    "import tensorflow as tf"
   ]
  },
  {
   "cell_type": "code",
   "execution_count": 33,
   "metadata": {
    "execution": {
     "iopub.execute_input": "2021-05-30T13:42:44.077244Z",
     "iopub.status.busy": "2021-05-30T13:42:44.076873Z",
     "iopub.status.idle": "2021-05-30T13:42:44.087337Z",
     "shell.execute_reply": "2021-05-30T13:42:44.085860Z",
     "shell.execute_reply.started": "2021-05-30T13:42:44.077212Z"
    }
   },
   "outputs": [],
   "source": [
    "def load_image_files(container_path, dimension=(224, 224)):\n",
    "    \"\"\"\n",
    "    Load image files with categories as subfolder names \n",
    "    which performs like scikit-learn sample dataset\n",
    "    \n",
    "    Parameters\n",
    "    ----------\n",
    "    container_path : string or unicode\n",
    "        Path to the main folder holding one subfolder per category\n",
    "    dimension : tuple\n",
    "        size to which image are adjusted to\n",
    "        \n",
    "    Returns\n",
    "    -------\n",
    "    Bunch\n",
    "    \"\"\"\n",
    "    image_dir = Path(container_path)\n",
    "    folders = [directory for directory in image_dir.iterdir() if directory.is_dir()]\n",
    "    categories = [fo.name for fo in folders]\n",
    "\n",
    "    descr = \"A image classification dataset\"\n",
    "    images = []\n",
    "    flat_data = []\n",
    "    target = []\n",
    "    for i, direc in enumerate(folders):\n",
    "        for file in direc.iterdir():\n",
    "            \n",
    "            img = skimage.io.imread(file) ## need to add in plugin for reading png images.\n",
    "            #img = img[:,:,:3]\n",
    "            img_resized = resize(img, dimension, anti_aliasing=True, mode='reflect')\n",
    "            #flat_data.append(img_resized.flatten()) \n",
    "            flat_data.append(img_resized)\n",
    "            images.append(img_resized)\n",
    "            target.append(i)\n",
    "    flat_data = np.array(flat_data)\n",
    "    target = np.array(target)\n",
    "    images = np.array(images)\n",
    "\n",
    "    return Bunch(data=flat_data,\n",
    "                 target=target,\n",
    "                 target_names=categories,\n",
    "                 images=images,\n",
    "                 DESCR=descr)"
   ]
  },
  {
   "cell_type": "code",
   "execution_count": null,
   "metadata": {
    "execution": {
     "iopub.execute_input": "2021-05-27T09:17:54.882377Z",
     "iopub.status.busy": "2021-05-27T09:17:54.881871Z",
     "iopub.status.idle": "2021-05-27T09:18:44.821498Z",
     "shell.execute_reply": "2021-05-27T09:18:44.820252Z",
     "shell.execute_reply.started": "2021-05-27T09:17:54.88233Z"
    }
   },
   "outputs": [],
   "source": [
    "train_data = load_image_files(\"/kaggle/input/autistic-children-data-set-traintestvalidate/train\")"
   ]
  },
  {
   "cell_type": "code",
   "execution_count": null,
   "metadata": {
    "execution": {
     "iopub.execute_input": "2021-05-27T04:44:27.008722Z",
     "iopub.status.busy": "2021-05-27T04:44:27.008331Z",
     "iopub.status.idle": "2021-05-27T04:44:27.016805Z",
     "shell.execute_reply": "2021-05-27T04:44:27.015726Z",
     "shell.execute_reply.started": "2021-05-27T04:44:27.008681Z"
    }
   },
   "outputs": [],
   "source": [
    "len(train_data['images'])"
   ]
  },
  {
   "cell_type": "code",
   "execution_count": null,
   "metadata": {
    "execution": {
     "iopub.execute_input": "2021-05-27T04:44:27.019152Z",
     "iopub.status.busy": "2021-05-27T04:44:27.018799Z",
     "iopub.status.idle": "2021-05-27T04:44:27.030294Z",
     "shell.execute_reply": "2021-05-27T04:44:27.029354Z",
     "shell.execute_reply.started": "2021-05-27T04:44:27.01912Z"
    }
   },
   "outputs": [],
   "source": [
    "train_data['target_names']"
   ]
  },
  {
   "cell_type": "code",
   "execution_count": null,
   "metadata": {
    "execution": {
     "iopub.execute_input": "2021-05-27T04:44:27.032193Z",
     "iopub.status.busy": "2021-05-27T04:44:27.031902Z",
     "iopub.status.idle": "2021-05-27T04:44:27.04164Z",
     "shell.execute_reply": "2021-05-27T04:44:27.040548Z",
     "shell.execute_reply.started": "2021-05-27T04:44:27.032166Z"
    }
   },
   "outputs": [],
   "source": [
    "train_data['images'][0].shape"
   ]
  },
  {
   "cell_type": "code",
   "execution_count": null,
   "metadata": {
    "execution": {
     "iopub.execute_input": "2021-05-27T04:44:27.043546Z",
     "iopub.status.busy": "2021-05-27T04:44:27.043073Z",
     "iopub.status.idle": "2021-05-27T04:44:27.329919Z",
     "shell.execute_reply": "2021-05-27T04:44:27.329206Z",
     "shell.execute_reply.started": "2021-05-27T04:44:27.043464Z"
    }
   },
   "outputs": [],
   "source": [
    "plt.figure()\n",
    "plt.imshow(train_data['images'][0])\n",
    "plt.colorbar()\n",
    "plt.grid(False)\n",
    "plt.show()"
   ]
  },
  {
   "cell_type": "code",
   "execution_count": null,
   "metadata": {
    "execution": {
     "iopub.execute_input": "2021-05-27T09:18:44.824113Z",
     "iopub.status.busy": "2021-05-27T09:18:44.823553Z",
     "iopub.status.idle": "2021-05-27T09:18:46.641197Z",
     "shell.execute_reply": "2021-05-27T09:18:46.639717Z",
     "shell.execute_reply.started": "2021-05-27T09:18:44.824048Z"
    }
   },
   "outputs": [],
   "source": [
    "## read in validation  data \n",
    "valid_data = load_image_files(\"/kaggle/input/autistic-children-data-set-traintestvalidate/valid\")"
   ]
  },
  {
   "cell_type": "code",
   "execution_count": 34,
   "metadata": {
    "execution": {
     "iopub.execute_input": "2021-05-30T13:42:50.308365Z",
     "iopub.status.busy": "2021-05-30T13:42:50.307980Z",
     "iopub.status.idle": "2021-05-30T13:42:55.887899Z",
     "shell.execute_reply": "2021-05-30T13:42:55.886702Z",
     "shell.execute_reply.started": "2021-05-30T13:42:50.308334Z"
    }
   },
   "outputs": [],
   "source": [
    "## read in test data \n",
    "test_data = load_image_files(\"/kaggle/input/autistic-children-data-set-traintestvalidate/test\")"
   ]
  },
  {
   "cell_type": "code",
   "execution_count": null,
   "metadata": {
    "execution": {
     "iopub.execute_input": "2021-05-27T04:44:36.631141Z",
     "iopub.status.busy": "2021-05-27T04:44:36.630854Z",
     "iopub.status.idle": "2021-05-27T04:44:36.636865Z",
     "shell.execute_reply": "2021-05-27T04:44:36.635922Z",
     "shell.execute_reply.started": "2021-05-27T04:44:36.631114Z"
    }
   },
   "outputs": [],
   "source": [
    "len(valid_data['images'])"
   ]
  },
  {
   "cell_type": "code",
   "execution_count": 18,
   "metadata": {
    "execution": {
     "iopub.execute_input": "2021-05-30T13:00:47.029431Z",
     "iopub.status.busy": "2021-05-30T13:00:47.028794Z",
     "iopub.status.idle": "2021-05-30T13:00:47.036292Z",
     "shell.execute_reply": "2021-05-30T13:00:47.035122Z",
     "shell.execute_reply.started": "2021-05-30T13:00:47.029384Z"
    }
   },
   "outputs": [
    {
     "data": {
      "text/plain": [
       "200"
      ]
     },
     "execution_count": 18,
     "metadata": {},
     "output_type": "execute_result"
    }
   ],
   "source": [
    "len(test_data['images'])"
   ]
  },
  {
   "cell_type": "code",
   "execution_count": null,
   "metadata": {
    "execution": {
     "iopub.execute_input": "2021-05-27T04:44:36.652459Z",
     "iopub.status.busy": "2021-05-27T04:44:36.651889Z",
     "iopub.status.idle": "2021-05-27T04:44:36.661482Z",
     "shell.execute_reply": "2021-05-27T04:44:36.660488Z",
     "shell.execute_reply.started": "2021-05-27T04:44:36.652425Z"
    }
   },
   "outputs": [],
   "source": [
    "class myCallback(tf.keras.callbacks.Callback):\n",
    "    \n",
    "    def on_epoch_end(self, epoch, logs={}):\n",
    "        if(logs.get('accuracy')>0.9):\n",
    "            print(\"\\nReached 90% accuracy so cancelling training!\")\n",
    "            self.model.stop_training = True\n",
    "\n",
    "callbacks = myCallback()"
   ]
  },
  {
   "cell_type": "code",
   "execution_count": null,
   "metadata": {
    "execution": {
     "iopub.execute_input": "2021-05-27T04:44:36.663445Z",
     "iopub.status.busy": "2021-05-27T04:44:36.662865Z",
     "iopub.status.idle": "2021-05-27T04:44:36.679468Z",
     "shell.execute_reply": "2021-05-27T04:44:36.678763Z",
     "shell.execute_reply.started": "2021-05-27T04:44:36.663408Z"
    }
   },
   "outputs": [],
   "source": [
    "train_data.keys()"
   ]
  },
  {
   "cell_type": "code",
   "execution_count": null,
   "metadata": {
    "execution": {
     "iopub.execute_input": "2021-05-27T04:44:36.681297Z",
     "iopub.status.busy": "2021-05-27T04:44:36.68083Z",
     "iopub.status.idle": "2021-05-27T04:44:36.692883Z",
     "shell.execute_reply": "2021-05-27T04:44:36.691699Z",
     "shell.execute_reply.started": "2021-05-27T04:44:36.681265Z"
    }
   },
   "outputs": [],
   "source": [
    "train_data['target'].shape"
   ]
  },
  {
   "cell_type": "code",
   "execution_count": 4,
   "metadata": {
    "execution": {
     "iopub.execute_input": "2021-05-29T09:11:40.476973Z",
     "iopub.status.busy": "2021-05-29T09:11:40.476515Z",
     "iopub.status.idle": "2021-05-29T09:11:40.483319Z",
     "shell.execute_reply": "2021-05-29T09:11:40.482085Z",
     "shell.execute_reply.started": "2021-05-29T09:11:40.476927Z"
    }
   },
   "outputs": [],
   "source": [
    "def get_labels(prob_model, images):\n",
    "    predictions = prob_model.predict(images)\n",
    "\n",
    "    ## based on the max value of probability , predict the class.\n",
    "    predicted_labels = []\n",
    "    for i in range(len(predictions)):\n",
    "        pred_label = np.argmax(predictions[i])\n",
    "        predicted_labels.append(pred_label)\n",
    "    return predicted_labels\n"
   ]
  },
  {
   "cell_type": "code",
   "execution_count": 6,
   "metadata": {
    "execution": {
     "iopub.execute_input": "2021-05-30T12:00:27.666518Z",
     "iopub.status.busy": "2021-05-30T12:00:27.666111Z",
     "iopub.status.idle": "2021-05-30T12:00:27.672765Z",
     "shell.execute_reply": "2021-05-30T12:00:27.671747Z",
     "shell.execute_reply.started": "2021-05-30T12:00:27.666441Z"
    }
   },
   "outputs": [
    {
     "name": "stdout",
     "output_type": "stream",
     "text": [
      "/kaggle/input/autistic-children-data-set-traintestvalidate/train\n",
      "/kaggle/input/autistic-children-data-set-traintestvalidate/valid\n",
      "/kaggle/input/autistic-children-data-set-traintestvalidate/test\n"
     ]
    }
   ],
   "source": [
    "# Create a list with the filepaths for training and testing\n",
    "train_img_Path = \"/kaggle/input/autistic-children-data-set-traintestvalidate/train\"\n",
    "\n",
    "valid_img_Path = \"/kaggle/input/autistic-children-data-set-traintestvalidate/valid\"\n",
    "\n",
    "test_img_Path = \"/kaggle/input/autistic-children-data-set-traintestvalidate/test\"\n",
    "\n",
    "\n",
    "#img_Path = '../input/resized-plant2021/img_sz_256'\n",
    "print(train_img_Path)\n",
    "print(valid_img_Path)\n",
    "print(test_img_Path)\n"
   ]
  },
  {
   "cell_type": "code",
   "execution_count": 27,
   "metadata": {
    "execution": {
     "iopub.execute_input": "2021-05-30T13:17:37.372562Z",
     "iopub.status.busy": "2021-05-30T13:17:37.372106Z",
     "iopub.status.idle": "2021-05-30T13:17:37.696407Z",
     "shell.execute_reply": "2021-05-30T13:17:37.695294Z",
     "shell.execute_reply.started": "2021-05-30T13:17:37.372530Z"
    }
   },
   "outputs": [
    {
     "name": "stdout",
     "output_type": "stream",
     "text": [
      "Found 2538 images belonging to 2 classes.\n",
      "Found 200 images belonging to 2 classes.\n",
      "Found 200 images belonging to 2 classes.\n"
     ]
    }
   ],
   "source": [
    "from tensorflow.keras.preprocessing.image import ImageDataGenerator\n",
    "#train_datagen = ImageDataGenerator(\n",
    "        #rescale=1./255,\n",
    "        #shear_range=0.2,\n",
    "        #zoom_range=0.2,\n",
    "        #horizontal_flip=True)\n",
    "train_datagen = ImageDataGenerator(\n",
    "        rescale=1./255\n",
    "        )\n",
    "test_datagen = ImageDataGenerator(rescale=1./255)\n",
    "train_generator = train_datagen.flow_from_directory(\n",
    "        train_img_Path,\n",
    "        target_size=(224, 224),\n",
    "        batch_size=32,\n",
    "        class_mode = 'binary',\n",
    "        shuffle = 'False'\n",
    "        )\n",
    "validation_generator = test_datagen.flow_from_directory(\n",
    "        valid_img_Path,\n",
    "        target_size=(224, 224),\n",
    "        batch_size=32,\n",
    "        class_mode = 'binary',\n",
    "    shuffle = 'False'\n",
    "        )\n",
    "test_generator = test_datagen.flow_from_directory(\n",
    "        test_img_Path,\n",
    "        target_size=(224, 224),\n",
    "        batch_size=32,\n",
    "        class_mode = 'binary',\n",
    "    shuffle = 'False'\n",
    "        )"
   ]
  },
  {
   "cell_type": "code",
   "execution_count": 8,
   "metadata": {
    "execution": {
     "iopub.execute_input": "2021-05-30T12:00:38.060732Z",
     "iopub.status.busy": "2021-05-30T12:00:38.060321Z",
     "iopub.status.idle": "2021-05-30T12:00:38.071102Z",
     "shell.execute_reply": "2021-05-30T12:00:38.069576Z",
     "shell.execute_reply.started": "2021-05-30T12:00:38.060700Z"
    }
   },
   "outputs": [
    {
     "data": {
      "text/plain": [
       "{'autistic': 0, 'non_autistic': 1}"
      ]
     },
     "execution_count": 8,
     "metadata": {},
     "output_type": "execute_result"
    }
   ],
   "source": [
    "dict_classes = train_generator.class_indices\n",
    "dict_classes"
   ]
  },
  {
   "cell_type": "code",
   "execution_count": 9,
   "metadata": {
    "execution": {
     "iopub.execute_input": "2021-05-29T09:13:52.842384Z",
     "iopub.status.busy": "2021-05-29T09:13:52.841759Z",
     "iopub.status.idle": "2021-05-29T11:30:57.221438Z",
     "shell.execute_reply": "2021-05-29T11:30:57.218467Z",
     "shell.execute_reply.started": "2021-05-29T09:13:52.842345Z"
    }
   },
   "outputs": [
    {
     "name": "stdout",
     "output_type": "stream",
     "text": [
      "Epoch 1/50\n",
      "80/80 [==============================] - 155s 2s/step - loss: 20.0217 - accuracy: 0.5300 - val_loss: 0.6316 - val_accuracy: 0.6450\n",
      "Epoch 2/50\n",
      "80/80 [==============================] - 155s 2s/step - loss: 0.5334 - accuracy: 0.7718 - val_loss: 0.6483 - val_accuracy: 0.6950\n",
      "Epoch 3/50\n",
      "80/80 [==============================] - 156s 2s/step - loss: 0.2799 - accuracy: 0.9172 - val_loss: 0.6631 - val_accuracy: 0.7100\n",
      "Epoch 4/50\n",
      "80/80 [==============================] - 176s 2s/step - loss: 0.1011 - accuracy: 0.9748 - val_loss: 0.8466 - val_accuracy: 0.6850\n",
      "Epoch 5/50\n",
      "80/80 [==============================] - 158s 2s/step - loss: 0.0383 - accuracy: 0.9976 - val_loss: 1.0942 - val_accuracy: 0.7100\n",
      "Epoch 6/50\n",
      "80/80 [==============================] - 151s 2s/step - loss: 0.0112 - accuracy: 0.9992 - val_loss: 1.2621 - val_accuracy: 0.6700\n",
      "Epoch 7/50\n",
      "80/80 [==============================] - 152s 2s/step - loss: 0.0032 - accuracy: 1.0000 - val_loss: 1.3757 - val_accuracy: 0.6700\n",
      "Epoch 8/50\n",
      "80/80 [==============================] - 171s 2s/step - loss: 0.0011 - accuracy: 1.0000 - val_loss: 1.4407 - val_accuracy: 0.6800\n",
      "Epoch 9/50\n",
      "80/80 [==============================] - 151s 2s/step - loss: 5.0681e-04 - accuracy: 1.0000 - val_loss: 1.5382 - val_accuracy: 0.6950\n",
      "Epoch 10/50\n",
      "80/80 [==============================] - 152s 2s/step - loss: 3.5473e-04 - accuracy: 1.0000 - val_loss: 1.5658 - val_accuracy: 0.7000\n",
      "Epoch 11/50\n",
      "80/80 [==============================] - 153s 2s/step - loss: 2.7852e-04 - accuracy: 1.0000 - val_loss: 1.6054 - val_accuracy: 0.6850\n",
      "Epoch 12/50\n",
      "80/80 [==============================] - 175s 2s/step - loss: 1.9683e-04 - accuracy: 1.0000 - val_loss: 1.6388 - val_accuracy: 0.6850\n",
      "Epoch 13/50\n",
      "80/80 [==============================] - 159s 2s/step - loss: 1.7050e-04 - accuracy: 1.0000 - val_loss: 1.6717 - val_accuracy: 0.6950\n",
      "Epoch 14/50\n",
      "80/80 [==============================] - 153s 2s/step - loss: 1.1832e-04 - accuracy: 1.0000 - val_loss: 1.6990 - val_accuracy: 0.6950\n",
      "Epoch 15/50\n",
      "80/80 [==============================] - 159s 2s/step - loss: 1.0709e-04 - accuracy: 1.0000 - val_loss: 1.7147 - val_accuracy: 0.6850\n",
      "Epoch 16/50\n",
      "80/80 [==============================] - 169s 2s/step - loss: 9.5298e-05 - accuracy: 1.0000 - val_loss: 1.7235 - val_accuracy: 0.6850\n",
      "Epoch 17/50\n",
      "80/80 [==============================] - 154s 2s/step - loss: 7.6506e-05 - accuracy: 1.0000 - val_loss: 1.7367 - val_accuracy: 0.6850\n",
      "Epoch 18/50\n",
      "80/80 [==============================] - 156s 2s/step - loss: 6.6312e-05 - accuracy: 1.0000 - val_loss: 1.7599 - val_accuracy: 0.6900\n",
      "Epoch 19/50\n",
      "80/80 [==============================] - 170s 2s/step - loss: 5.3764e-05 - accuracy: 1.0000 - val_loss: 1.7723 - val_accuracy: 0.6900\n",
      "Epoch 20/50\n",
      "80/80 [==============================] - 163s 2s/step - loss: 4.7998e-05 - accuracy: 1.0000 - val_loss: 1.7908 - val_accuracy: 0.6900\n",
      "Epoch 21/50\n",
      "80/80 [==============================] - 158s 2s/step - loss: 4.2357e-05 - accuracy: 1.0000 - val_loss: 1.7966 - val_accuracy: 0.6900\n",
      "Epoch 22/50\n",
      "80/80 [==============================] - 153s 2s/step - loss: 3.9749e-05 - accuracy: 1.0000 - val_loss: 1.8081 - val_accuracy: 0.6900\n",
      "Epoch 23/50\n",
      "80/80 [==============================] - 175s 2s/step - loss: 3.5644e-05 - accuracy: 1.0000 - val_loss: 1.8100 - val_accuracy: 0.6900\n",
      "Epoch 24/50\n",
      "80/80 [==============================] - 155s 2s/step - loss: 3.0935e-05 - accuracy: 1.0000 - val_loss: 1.8220 - val_accuracy: 0.6900\n",
      "Epoch 25/50\n",
      "80/80 [==============================] - 156s 2s/step - loss: 2.7079e-05 - accuracy: 1.0000 - val_loss: 1.8420 - val_accuracy: 0.6950\n",
      "Epoch 26/50\n",
      "80/80 [==============================] - 153s 2s/step - loss: 2.5297e-05 - accuracy: 1.0000 - val_loss: 1.8461 - val_accuracy: 0.6900\n",
      "Epoch 27/50\n",
      "80/80 [==============================] - 178s 2s/step - loss: 2.1888e-05 - accuracy: 1.0000 - val_loss: 1.8570 - val_accuracy: 0.6900\n",
      "Epoch 28/50\n",
      "80/80 [==============================] - 156s 2s/step - loss: 1.9721e-05 - accuracy: 1.0000 - val_loss: 1.8696 - val_accuracy: 0.6900\n",
      "Epoch 29/50\n",
      "80/80 [==============================] - 157s 2s/step - loss: 1.7981e-05 - accuracy: 1.0000 - val_loss: 1.8806 - val_accuracy: 0.6900\n",
      "Epoch 30/50\n",
      "80/80 [==============================] - 182s 2s/step - loss: 1.5728e-05 - accuracy: 1.0000 - val_loss: 1.8937 - val_accuracy: 0.6900\n",
      "Epoch 31/50\n",
      "80/80 [==============================] - 230s 3s/step - loss: 1.6594e-05 - accuracy: 1.0000 - val_loss: 1.8926 - val_accuracy: 0.6900\n",
      "Epoch 32/50\n",
      "80/80 [==============================] - 190s 2s/step - loss: 1.3696e-05 - accuracy: 1.0000 - val_loss: 1.9072 - val_accuracy: 0.6900\n",
      "Epoch 33/50\n",
      "80/80 [==============================] - 160s 2s/step - loss: 1.3326e-05 - accuracy: 1.0000 - val_loss: 1.9122 - val_accuracy: 0.6950\n",
      "Epoch 34/50\n",
      "80/80 [==============================] - 171s 2s/step - loss: 1.1854e-05 - accuracy: 1.0000 - val_loss: 1.9220 - val_accuracy: 0.6900\n",
      "Epoch 35/50\n",
      "80/80 [==============================] - 189s 2s/step - loss: 1.1888e-05 - accuracy: 1.0000 - val_loss: 1.9285 - val_accuracy: 0.6950\n",
      "Epoch 36/50\n",
      "80/80 [==============================] - 173s 2s/step - loss: 1.0197e-05 - accuracy: 1.0000 - val_loss: 1.9388 - val_accuracy: 0.6950\n",
      "Epoch 37/50\n",
      "80/80 [==============================] - 173s 2s/step - loss: 9.4686e-06 - accuracy: 1.0000 - val_loss: 1.9420 - val_accuracy: 0.6950\n",
      "Epoch 38/50\n",
      "80/80 [==============================] - 195s 2s/step - loss: 9.1424e-06 - accuracy: 1.0000 - val_loss: 1.9492 - val_accuracy: 0.6950\n",
      "Epoch 39/50\n",
      "80/80 [==============================] - 156s 2s/step - loss: 8.1624e-06 - accuracy: 1.0000 - val_loss: 1.9567 - val_accuracy: 0.6950\n",
      "Epoch 40/50\n",
      "80/80 [==============================] - 153s 2s/step - loss: 7.6920e-06 - accuracy: 1.0000 - val_loss: 1.9630 - val_accuracy: 0.7000\n",
      "Epoch 41/50\n",
      "80/80 [==============================] - 155s 2s/step - loss: 7.5252e-06 - accuracy: 1.0000 - val_loss: 1.9715 - val_accuracy: 0.7000\n",
      "Epoch 42/50\n",
      "80/80 [==============================] - 175s 2s/step - loss: 6.9410e-06 - accuracy: 1.0000 - val_loss: 1.9745 - val_accuracy: 0.7000\n",
      "Epoch 43/50\n",
      "80/80 [==============================] - 153s 2s/step - loss: 5.9898e-06 - accuracy: 1.0000 - val_loss: 1.9829 - val_accuracy: 0.7000\n",
      "Epoch 44/50\n",
      "80/80 [==============================] - 162s 2s/step - loss: 5.8871e-06 - accuracy: 1.0000 - val_loss: 1.9957 - val_accuracy: 0.7000\n",
      "Epoch 45/50\n",
      "80/80 [==============================] - 157s 2s/step - loss: 6.0371e-06 - accuracy: 1.0000 - val_loss: 1.9992 - val_accuracy: 0.7000\n",
      "Epoch 46/50\n",
      "80/80 [==============================] - 178s 2s/step - loss: 5.0201e-06 - accuracy: 1.0000 - val_loss: 2.0092 - val_accuracy: 0.7000\n",
      "Epoch 47/50\n",
      "80/80 [==============================] - 158s 2s/step - loss: 4.7246e-06 - accuracy: 1.0000 - val_loss: 2.0122 - val_accuracy: 0.7000\n",
      "Epoch 48/50\n",
      "80/80 [==============================] - 155s 2s/step - loss: 4.5253e-06 - accuracy: 1.0000 - val_loss: 2.0180 - val_accuracy: 0.7000\n",
      "Epoch 49/50\n",
      "80/80 [==============================] - 152s 2s/step - loss: 4.5604e-06 - accuracy: 1.0000 - val_loss: 2.0216 - val_accuracy: 0.7000\n",
      "Epoch 50/50\n",
      "80/80 [==============================] - 174s 2s/step - loss: 4.0647e-06 - accuracy: 1.0000 - val_loss: 2.0296 - val_accuracy: 0.7050\n",
      "7/7 [==============================] - 3s 450ms/step - loss: 1.2417 - accuracy: 0.7900\n",
      "Test image accuracy :0.7900000214576721\n"
     ]
    },
    {
     "ename": "NameError",
     "evalue": "name 'plt' is not defined",
     "output_type": "error",
     "traceback": [
      "\u001b[0;31m---------------------------------------------------------------------------\u001b[0m",
      "\u001b[0;31mNameError\u001b[0m                                 Traceback (most recent call last)",
      "\u001b[0;32m<ipython-input-9-5e727e92ac5e>\u001b[0m in \u001b[0;36m<module>\u001b[0;34m\u001b[0m\n\u001b[1;32m     14\u001b[0m \u001b[0mprint\u001b[0m\u001b[0;34m(\u001b[0m\u001b[0;34m\"Test image accuracy :{}\"\u001b[0m\u001b[0;34m.\u001b[0m\u001b[0mformat\u001b[0m\u001b[0;34m(\u001b[0m\u001b[0mtest_acc\u001b[0m\u001b[0;34m)\u001b[0m\u001b[0;34m)\u001b[0m\u001b[0;34m\u001b[0m\u001b[0;34m\u001b[0m\u001b[0m\n\u001b[1;32m     15\u001b[0m \u001b[0;31m##\u001b[0m\u001b[0;34m\u001b[0m\u001b[0;34m\u001b[0m\u001b[0;34m\u001b[0m\u001b[0m\n\u001b[0;32m---> 16\u001b[0;31m \u001b[0mplt\u001b[0m\u001b[0;34m.\u001b[0m\u001b[0mplot\u001b[0m\u001b[0;34m(\u001b[0m\u001b[0mhistory\u001b[0m\u001b[0;34m.\u001b[0m\u001b[0mhistory\u001b[0m\u001b[0;34m[\u001b[0m\u001b[0;34m'accuracy'\u001b[0m\u001b[0;34m]\u001b[0m\u001b[0;34m,\u001b[0m \u001b[0;34m'-o'\u001b[0m \u001b[0;34m,\u001b[0m\u001b[0mlabel\u001b[0m\u001b[0;34m=\u001b[0m\u001b[0;34m'accuracy'\u001b[0m\u001b[0;34m)\u001b[0m\u001b[0;34m\u001b[0m\u001b[0;34m\u001b[0m\u001b[0m\n\u001b[0m\u001b[1;32m     17\u001b[0m \u001b[0mplt\u001b[0m\u001b[0;34m.\u001b[0m\u001b[0mplot\u001b[0m\u001b[0;34m(\u001b[0m\u001b[0mhistory\u001b[0m\u001b[0;34m.\u001b[0m\u001b[0mhistory\u001b[0m\u001b[0;34m[\u001b[0m\u001b[0;34m'val_accuracy'\u001b[0m\u001b[0;34m]\u001b[0m\u001b[0;34m,\u001b[0m \u001b[0;34m'-o'\u001b[0m\u001b[0;34m,\u001b[0m \u001b[0mlabel\u001b[0m \u001b[0;34m=\u001b[0m \u001b[0;34m'val_accuracy'\u001b[0m\u001b[0;34m)\u001b[0m\u001b[0;34m\u001b[0m\u001b[0;34m\u001b[0m\u001b[0m\n\u001b[1;32m     18\u001b[0m \u001b[0mplt\u001b[0m\u001b[0;34m.\u001b[0m\u001b[0mxlabel\u001b[0m\u001b[0;34m(\u001b[0m\u001b[0;34m'Epoch'\u001b[0m\u001b[0;34m)\u001b[0m\u001b[0;34m\u001b[0m\u001b[0;34m\u001b[0m\u001b[0m\n",
      "\u001b[0;31mNameError\u001b[0m: name 'plt' is not defined"
     ]
    }
   ],
   "source": [
    "## model with data_generator \n",
    "model = tf.keras.models.Sequential([\n",
    "    tf.keras.layers.Conv2D( activation='relu', input_shape=(224, 224, 3), filters = 64, kernel_size = 3),\n",
    "    tf.keras.layers.MaxPooling2D(pool_size = (2,2), strides = (2, 2)),\n",
    "tf.keras.layers.Flatten(),\n",
    "tf.keras.layers.Dense(128, activation=tf.nn.relu),\n",
    "tf.keras.layers.Dense(2, activation=tf.nn.softmax)])\n",
    "\n",
    "\n",
    "model.compile(optimizer='adam', loss='sparse_categorical_crossentropy', metrics=['accuracy'], )\n",
    "history = model.fit(train_generator, epochs=50,validation_data=validation_generator)\n",
    "##\n",
    "test_loss, test_acc = model.evaluate(test_generator)\n",
    "print(\"Test image accuracy :{}\".format(test_acc))\n",
    "##\n",
    "plt.plot(history.history['accuracy'], '-o' ,label='accuracy')\n",
    "plt.plot(history.history['val_accuracy'], '-o', label = 'val_accuracy')\n",
    "plt.xlabel('Epoch')\n",
    "plt.ylabel('Accuracy')\n",
    "plt.ylim([0.5, 1])\n",
    "plt.legend(loc='lower right')"
   ]
  },
  {
   "cell_type": "code",
   "execution_count": 11,
   "metadata": {
    "execution": {
     "iopub.execute_input": "2021-05-29T11:47:53.073962Z",
     "iopub.status.busy": "2021-05-29T11:47:53.073348Z",
     "iopub.status.idle": "2021-05-29T11:47:53.281843Z",
     "shell.execute_reply": "2021-05-29T11:47:53.280871Z",
     "shell.execute_reply.started": "2021-05-29T11:47:53.073909Z"
    }
   },
   "outputs": [
    {
     "data": {
      "text/plain": [
       "<matplotlib.legend.Legend at 0x7f0991e4bb50>"
      ]
     },
     "execution_count": 11,
     "metadata": {},
     "output_type": "execute_result"
    },
    {
     "data": {
      "image/png": "[encoded data removed]",
      "text/plain": [
       "<Figure size 432x288 with 1 Axes>"
      ]
     },
     "metadata": {
      "needs_background": "light"
     },
     "output_type": "display_data"
    }
   ],
   "source": [
    "plt.plot(history.history['accuracy'], '-o' ,label='accuracy')\n",
    "plt.plot(history.history['val_accuracy'], '-o', label = 'val_accuracy')\n",
    "plt.xlabel('Epoch')\n",
    "plt.ylabel('Accuracy')\n",
    "plt.ylim([0.5, 1])\n",
    "plt.legend(loc='lower right')"
   ]
  },
  {
   "cell_type": "code",
   "execution_count": 28,
   "metadata": {
    "execution": {
     "iopub.execute_input": "2021-05-30T13:17:46.643377Z",
     "iopub.status.busy": "2021-05-30T13:17:46.642951Z",
     "iopub.status.idle": "2021-05-30T13:28:34.474546Z",
     "shell.execute_reply": "2021-05-30T13:28:34.473289Z",
     "shell.execute_reply.started": "2021-05-30T13:17:46.643337Z"
    }
   },
   "outputs": [
    {
     "name": "stdout",
     "output_type": "stream",
     "text": [
      "Epoch 1/50\n",
      "80/80 [==============================] - 14s 167ms/step - loss: 11.3949 - accuracy: 0.5335 - val_loss: 0.6518 - val_accuracy: 0.6500\n",
      "Epoch 2/50\n",
      "80/80 [==============================] - 14s 170ms/step - loss: 0.5522 - accuracy: 0.7636 - val_loss: 0.6367 - val_accuracy: 0.6700\n",
      "Epoch 3/50\n",
      "80/80 [==============================] - 13s 161ms/step - loss: 0.3336 - accuracy: 0.8774 - val_loss: 0.6006 - val_accuracy: 0.7050\n",
      "Epoch 4/50\n",
      "80/80 [==============================] - 13s 160ms/step - loss: 0.1406 - accuracy: 0.9645 - val_loss: 0.6746 - val_accuracy: 0.7500\n",
      "Epoch 5/50\n",
      "80/80 [==============================] - 13s 166ms/step - loss: 0.0485 - accuracy: 0.9949 - val_loss: 0.9309 - val_accuracy: 0.6850\n",
      "Epoch 6/50\n",
      "80/80 [==============================] - 13s 159ms/step - loss: 0.0455 - accuracy: 0.9904 - val_loss: 1.1042 - val_accuracy: 0.7050\n",
      "Epoch 7/50\n",
      "80/80 [==============================] - 13s 161ms/step - loss: 0.0100 - accuracy: 0.9999 - val_loss: 1.2338 - val_accuracy: 0.7200\n",
      "Epoch 8/50\n",
      "80/80 [==============================] - 13s 164ms/step - loss: 0.0152 - accuracy: 1.0000 - val_loss: 1.3746 - val_accuracy: 0.6900\n",
      "Epoch 9/50\n",
      "80/80 [==============================] - 13s 157ms/step - loss: 0.0030 - accuracy: 1.0000 - val_loss: 1.4462 - val_accuracy: 0.7100\n",
      "Epoch 10/50\n",
      "80/80 [==============================] - 13s 163ms/step - loss: 0.0011 - accuracy: 1.0000 - val_loss: 1.5284 - val_accuracy: 0.7100\n",
      "Epoch 11/50\n",
      "80/80 [==============================] - 13s 159ms/step - loss: 6.7345e-04 - accuracy: 1.0000 - val_loss: 1.6137 - val_accuracy: 0.7050\n",
      "Epoch 12/50\n",
      "80/80 [==============================] - 13s 158ms/step - loss: 4.4213e-04 - accuracy: 1.0000 - val_loss: 1.6075 - val_accuracy: 0.7150\n",
      "Epoch 13/50\n",
      "80/80 [==============================] - 13s 169ms/step - loss: 2.8509e-04 - accuracy: 1.0000 - val_loss: 1.6224 - val_accuracy: 0.7100\n",
      "Epoch 14/50\n",
      "80/80 [==============================] - 13s 161ms/step - loss: 2.6454e-04 - accuracy: 1.0000 - val_loss: 1.6764 - val_accuracy: 0.7150\n",
      "Epoch 15/50\n",
      "80/80 [==============================] - 13s 166ms/step - loss: 1.8657e-04 - accuracy: 1.0000 - val_loss: 1.7345 - val_accuracy: 0.7050\n",
      "Epoch 16/50\n",
      "80/80 [==============================] - 13s 158ms/step - loss: 1.4888e-04 - accuracy: 1.0000 - val_loss: 1.6933 - val_accuracy: 0.7100\n",
      "Epoch 17/50\n",
      "80/80 [==============================] - 13s 157ms/step - loss: 1.4361e-04 - accuracy: 1.0000 - val_loss: 1.7553 - val_accuracy: 0.7200\n",
      "Epoch 18/50\n",
      "80/80 [==============================] - 13s 166ms/step - loss: 1.0723e-04 - accuracy: 1.0000 - val_loss: 1.7706 - val_accuracy: 0.7200\n",
      "Epoch 19/50\n",
      "80/80 [==============================] - 13s 157ms/step - loss: 9.7808e-05 - accuracy: 1.0000 - val_loss: 1.7632 - val_accuracy: 0.7200\n",
      "Epoch 20/50\n",
      "80/80 [==============================] - 13s 157ms/step - loss: 7.7688e-05 - accuracy: 1.0000 - val_loss: 1.7839 - val_accuracy: 0.7150\n",
      "Epoch 21/50\n",
      "80/80 [==============================] - 13s 163ms/step - loss: 6.9675e-05 - accuracy: 1.0000 - val_loss: 1.7855 - val_accuracy: 0.7100\n",
      "Epoch 22/50\n",
      "80/80 [==============================] - 13s 156ms/step - loss: 6.1583e-05 - accuracy: 1.0000 - val_loss: 1.7820 - val_accuracy: 0.7100\n",
      "Epoch 23/50\n",
      "80/80 [==============================] - 13s 162ms/step - loss: 5.1499e-05 - accuracy: 1.0000 - val_loss: 1.8070 - val_accuracy: 0.7150\n",
      "Epoch 24/50\n",
      "80/80 [==============================] - 13s 159ms/step - loss: 4.8634e-05 - accuracy: 1.0000 - val_loss: 1.8146 - val_accuracy: 0.7100\n",
      "Epoch 25/50\n",
      "80/80 [==============================] - 13s 160ms/step - loss: 4.2438e-05 - accuracy: 1.0000 - val_loss: 1.8350 - val_accuracy: 0.7150\n",
      "Epoch 26/50\n",
      "80/80 [==============================] - 13s 163ms/step - loss: 3.7374e-05 - accuracy: 1.0000 - val_loss: 1.8703 - val_accuracy: 0.7200\n",
      "Epoch 27/50\n",
      "80/80 [==============================] - 13s 157ms/step - loss: 3.3591e-05 - accuracy: 1.0000 - val_loss: 1.8703 - val_accuracy: 0.7150\n",
      "Epoch 28/50\n",
      "80/80 [==============================] - 13s 159ms/step - loss: 2.9810e-05 - accuracy: 1.0000 - val_loss: 1.8799 - val_accuracy: 0.7150\n",
      "Epoch 29/50\n",
      "80/80 [==============================] - 13s 163ms/step - loss: 2.8268e-05 - accuracy: 1.0000 - val_loss: 1.9159 - val_accuracy: 0.7150\n",
      "Epoch 30/50\n",
      "80/80 [==============================] - 13s 159ms/step - loss: 2.5996e-05 - accuracy: 1.0000 - val_loss: 1.9064 - val_accuracy: 0.7150\n",
      "Epoch 31/50\n",
      "80/80 [==============================] - 13s 161ms/step - loss: 2.2429e-05 - accuracy: 1.0000 - val_loss: 1.9067 - val_accuracy: 0.7150\n",
      "Epoch 32/50\n",
      "80/80 [==============================] - 13s 156ms/step - loss: 2.1626e-05 - accuracy: 1.0000 - val_loss: 1.8995 - val_accuracy: 0.7200\n",
      "Epoch 33/50\n",
      "80/80 [==============================] - 13s 159ms/step - loss: 1.9371e-05 - accuracy: 1.0000 - val_loss: 1.9162 - val_accuracy: 0.7200\n",
      "Epoch 34/50\n",
      "80/80 [==============================] - 13s 164ms/step - loss: 1.7625e-05 - accuracy: 1.0000 - val_loss: 1.8967 - val_accuracy: 0.7200\n",
      "Epoch 35/50\n",
      "80/80 [==============================] - 13s 157ms/step - loss: 1.6644e-05 - accuracy: 1.0000 - val_loss: 1.9358 - val_accuracy: 0.7200\n",
      "Epoch 36/50\n",
      "80/80 [==============================] - 13s 161ms/step - loss: 1.5181e-05 - accuracy: 1.0000 - val_loss: 1.9186 - val_accuracy: 0.7200\n",
      "Epoch 37/50\n",
      "80/80 [==============================] - 13s 164ms/step - loss: 1.5021e-05 - accuracy: 1.0000 - val_loss: 1.9361 - val_accuracy: 0.7200\n",
      "Epoch 38/50\n",
      "80/80 [==============================] - 13s 157ms/step - loss: 1.3133e-05 - accuracy: 1.0000 - val_loss: 1.9481 - val_accuracy: 0.7200\n",
      "Epoch 39/50\n",
      "80/80 [==============================] - 13s 163ms/step - loss: 1.2252e-05 - accuracy: 1.0000 - val_loss: 1.9373 - val_accuracy: 0.7150\n",
      "Epoch 40/50\n",
      "80/80 [==============================] - 13s 159ms/step - loss: 1.1648e-05 - accuracy: 1.0000 - val_loss: 1.9509 - val_accuracy: 0.7250\n",
      "Epoch 41/50\n",
      "80/80 [==============================] - 13s 157ms/step - loss: 1.0553e-05 - accuracy: 1.0000 - val_loss: 1.9600 - val_accuracy: 0.7200\n",
      "Epoch 42/50\n",
      "80/80 [==============================] - 13s 162ms/step - loss: 9.5260e-06 - accuracy: 1.0000 - val_loss: 1.9570 - val_accuracy: 0.7200\n",
      "Epoch 43/50\n",
      "80/80 [==============================] - 13s 163ms/step - loss: 9.6106e-06 - accuracy: 1.0000 - val_loss: 1.9650 - val_accuracy: 0.7200\n",
      "Epoch 44/50\n",
      "80/80 [==============================] - 13s 157ms/step - loss: 8.3926e-06 - accuracy: 1.0000 - val_loss: 1.9866 - val_accuracy: 0.7300\n",
      "Epoch 45/50\n",
      "80/80 [==============================] - 13s 163ms/step - loss: 8.1587e-06 - accuracy: 1.0000 - val_loss: 1.9890 - val_accuracy: 0.7200\n",
      "Epoch 46/50\n",
      "80/80 [==============================] - 13s 156ms/step - loss: 7.6058e-06 - accuracy: 1.0000 - val_loss: 1.9858 - val_accuracy: 0.7200\n",
      "Epoch 47/50\n",
      "80/80 [==============================] - 13s 158ms/step - loss: 6.6091e-06 - accuracy: 1.0000 - val_loss: 1.9872 - val_accuracy: 0.7200\n",
      "Epoch 48/50\n",
      "80/80 [==============================] - 13s 168ms/step - loss: 7.4443e-06 - accuracy: 1.0000 - val_loss: 1.9880 - val_accuracy: 0.7200\n",
      "Epoch 49/50\n",
      "80/80 [==============================] - 13s 157ms/step - loss: 6.6907e-06 - accuracy: 1.0000 - val_loss: 2.0019 - val_accuracy: 0.7200\n",
      "Epoch 50/50\n",
      "80/80 [==============================] - 13s 158ms/step - loss: 6.1342e-06 - accuracy: 1.0000 - val_loss: 2.0207 - val_accuracy: 0.7250\n",
      "7/7 [==============================] - 1s 109ms/step - loss: 1.1266 - accuracy: 0.8000\n",
      "Test image accuracy :0.800000011920929\n"
     ]
    },
    {
     "data": {
      "text/plain": [
       "<matplotlib.legend.Legend at 0x7fdc975a8b50>"
      ]
     },
     "execution_count": 28,
     "metadata": {},
     "output_type": "execute_result"
    },
    {
     "data": {
      "image/png": "[encoded data removed]",
      "text/plain": [
       "<Figure size 432x288 with 1 Axes>"
      ]
     },
     "metadata": {
      "needs_background": "light"
     },
     "output_type": "display_data"
    }
   ],
   "source": [
    "## model with data_generator and dropout of 0.2 .\n",
    "model = tf.keras.models.Sequential([\n",
    "    tf.keras.layers.Conv2D( activation='relu', input_shape=(224, 224, 3), filters = 64, kernel_size = 3),\n",
    "    tf.keras.layers.MaxPooling2D(pool_size = (2,2), strides = (2, 2)),\n",
    "    tf.keras.layers.Dropout(0.2),\n",
    "tf.keras.layers.Flatten(),\n",
    "tf.keras.layers.Dense(128, activation=tf.nn.relu),\n",
    "tf.keras.layers.Dense(2, activation=tf.nn.softmax)])\n",
    "\n",
    "\n",
    "model.compile(optimizer='adam', loss='sparse_categorical_crossentropy', metrics=['accuracy'], )\n",
    "history = model.fit(train_generator, epochs=50,validation_data=validation_generator)\n",
    "##\n",
    "test_loss, test_acc = model.evaluate(test_generator)\n",
    "print(\"Test image accuracy :{}\".format(test_acc))\n",
    "##\n",
    "plt.plot(history.history['accuracy'], '-o' ,label='accuracy')\n",
    "plt.plot(history.history['val_accuracy'], '-o', label = 'val_accuracy')\n",
    "plt.xlabel('Epoch')\n",
    "plt.ylabel('Accuracy')\n",
    "plt.ylim([0.5, 1])\n",
    "plt.legend(loc='lower right')"
   ]
  },
  {
   "cell_type": "markdown",
   "metadata": {},
   "source": [
    "Droput rate has increased the accuracy.  "
   ]
  },
  {
   "cell_type": "code",
   "execution_count": 35,
   "metadata": {
    "execution": {
     "iopub.execute_input": "2021-05-30T13:43:18.353982Z",
     "iopub.status.busy": "2021-05-30T13:43:18.353611Z",
     "iopub.status.idle": "2021-05-30T13:43:18.877792Z",
     "shell.execute_reply": "2021-05-30T13:43:18.876676Z",
     "shell.execute_reply.started": "2021-05-30T13:43:18.353949Z"
    }
   },
   "outputs": [],
   "source": [
    "probability_model = tf.keras.Sequential([model, \n",
    "                                         tf.keras.layers.Softmax()])\n",
    "\n",
    "\n",
    "predictions = model.predict(test_data['data'] , batch_size = 32)\n",
    "\n",
    "## based on the max value of probability , predict the class.\n",
    "test_predicted_labels = []\n",
    "for i in range(len(predictions)):\n",
    "    pred_label = np.argmax(predictions[i])\n",
    "    test_predicted_labels.append(pred_label)\n"
   ]
  },
  {
   "cell_type": "code",
   "execution_count": 37,
   "metadata": {
    "execution": {
     "iopub.execute_input": "2021-05-30T13:43:49.214527Z",
     "iopub.status.busy": "2021-05-30T13:43:49.214098Z",
     "iopub.status.idle": "2021-05-30T13:43:49.231285Z",
     "shell.execute_reply": "2021-05-30T13:43:49.229654Z",
     "shell.execute_reply.started": "2021-05-30T13:43:49.214488Z"
    }
   },
   "outputs": [
    {
     "name": "stdout",
     "output_type": "stream",
     "text": [
      "Classification report :\n",
      "              precision    recall  f1-score   support\n",
      "\n",
      "           0       0.81      0.74      0.77       100\n",
      "           1       0.76      0.83      0.79       100\n",
      "\n",
      "    accuracy                           0.79       200\n",
      "   macro avg       0.79      0.78      0.78       200\n",
      "weighted avg       0.79      0.79      0.78       200\n",
      "\n",
      "\n"
     ]
    }
   ],
   "source": [
    "print(\"Classification report :\\n{}\\n\".format(\n",
    "     classification_report(test_data['target'], test_predicted_labels)))"
   ]
  },
  {
   "cell_type": "markdown",
   "metadata": {},
   "source": [
    "Check if we can increase the accuracy by using some of the pre-trained models."
   ]
  },
  {
   "cell_type": "code",
   "execution_count": 12,
   "metadata": {
    "execution": {
     "iopub.execute_input": "2021-05-30T03:09:25.757399Z",
     "iopub.status.busy": "2021-05-30T03:09:25.757064Z",
     "iopub.status.idle": "2021-05-30T03:09:26.032139Z",
     "shell.execute_reply": "2021-05-30T03:09:26.031293Z",
     "shell.execute_reply.started": "2021-05-30T03:09:25.757369Z"
    }
   },
   "outputs": [],
   "source": [
    "base_Net = tf.keras.applications.VGG16(include_top = False, \n",
    "                         weights ='imagenet', \n",
    "                         input_shape = train_generator.image_shape, \n",
    "                         pooling='avg',\n",
    "                         )"
   ]
  },
  {
   "cell_type": "code",
   "execution_count": 23,
   "metadata": {
    "execution": {
     "iopub.execute_input": "2021-05-30T05:31:17.938288Z",
     "iopub.status.busy": "2021-05-30T05:31:17.937967Z",
     "iopub.status.idle": "2021-05-30T09:47:03.086055Z",
     "shell.execute_reply": "2021-05-30T09:47:03.085229Z",
     "shell.execute_reply.started": "2021-05-30T05:31:17.938258Z"
    }
   },
   "outputs": [
    {
     "name": "stdout",
     "output_type": "stream",
     "text": [
      "Model: \"sequential_13\"\n",
      "_________________________________________________________________\n",
      "Layer (type)                 Output Shape              Param #   \n",
      "=================================================================\n",
      "vgg16 (Functional)           (None, 512)               14714688  \n",
      "_________________________________________________________________\n",
      "dense_12 (Dense)             (None, 1)                 513       \n",
      "=================================================================\n",
      "Total params: 14,715,201\n",
      "Trainable params: 14,715,201\n",
      "Non-trainable params: 0\n",
      "_________________________________________________________________\n",
      "Epoch 1/50\n",
      "80/80 [==============================] - 307s 4s/step - loss: 0.6932 - accuracy: 0.4901 - val_loss: 0.6931 - val_accuracy: 0.5000\n",
      "Epoch 2/50\n",
      "80/80 [==============================] - 306s 4s/step - loss: 0.6932 - accuracy: 0.4942 - val_loss: 0.6931 - val_accuracy: 0.5000\n",
      "Epoch 3/50\n",
      "80/80 [==============================] - 306s 4s/step - loss: 0.6932 - accuracy: 0.4870 - val_loss: 0.6931 - val_accuracy: 0.5000\n",
      "Epoch 4/50\n",
      "80/80 [==============================] - 307s 4s/step - loss: 0.6932 - accuracy: 0.4876 - val_loss: 0.6931 - val_accuracy: 0.5000\n",
      "Epoch 5/50\n",
      "80/80 [==============================] - 306s 4s/step - loss: 0.6932 - accuracy: 0.4912 - val_loss: 0.6931 - val_accuracy: 0.5000\n",
      "Epoch 6/50\n",
      "80/80 [==============================] - 306s 4s/step - loss: 0.6932 - accuracy: 0.5021 - val_loss: 0.6931 - val_accuracy: 0.5000\n",
      "Epoch 7/50\n",
      "80/80 [==============================] - 306s 4s/step - loss: 0.6932 - accuracy: 0.4909 - val_loss: 0.6931 - val_accuracy: 0.5000\n",
      "Epoch 8/50\n",
      "80/80 [==============================] - 306s 4s/step - loss: 0.6932 - accuracy: 0.5071 - val_loss: 0.6931 - val_accuracy: 0.5000\n",
      "Epoch 9/50\n",
      "80/80 [==============================] - 306s 4s/step - loss: 0.6932 - accuracy: 0.4936 - val_loss: 0.6931 - val_accuracy: 0.5000\n",
      "Epoch 10/50\n",
      "80/80 [==============================] - 306s 4s/step - loss: 0.6932 - accuracy: 0.4654 - val_loss: 0.6932 - val_accuracy: 0.5000\n",
      "Epoch 11/50\n",
      "80/80 [==============================] - 306s 4s/step - loss: 0.6932 - accuracy: 0.4864 - val_loss: 0.6931 - val_accuracy: 0.5000\n",
      "Epoch 12/50\n",
      "80/80 [==============================] - 306s 4s/step - loss: 0.6932 - accuracy: 0.4947 - val_loss: 0.6931 - val_accuracy: 0.5000\n",
      "Epoch 13/50\n",
      "80/80 [==============================] - 306s 4s/step - loss: 0.6932 - accuracy: 0.5040 - val_loss: 0.6931 - val_accuracy: 0.5000\n",
      "Epoch 14/50\n",
      "80/80 [==============================] - 306s 4s/step - loss: 0.6932 - accuracy: 0.4914 - val_loss: 0.6931 - val_accuracy: 0.5000\n",
      "Epoch 15/50\n",
      "80/80 [==============================] - 306s 4s/step - loss: 0.6932 - accuracy: 0.4988 - val_loss: 0.6931 - val_accuracy: 0.5000\n",
      "Epoch 16/50\n",
      "80/80 [==============================] - 306s 4s/step - loss: 0.6931 - accuracy: 0.5097 - val_loss: 0.6931 - val_accuracy: 0.5000\n",
      "Epoch 17/50\n",
      "80/80 [==============================] - 306s 4s/step - loss: 0.6932 - accuracy: 0.4934 - val_loss: 0.6931 - val_accuracy: 0.5000\n",
      "Epoch 18/50\n",
      "80/80 [==============================] - 307s 4s/step - loss: 0.6931 - accuracy: 0.5202 - val_loss: 0.6931 - val_accuracy: 0.5000\n",
      "Epoch 19/50\n",
      "80/80 [==============================] - 307s 4s/step - loss: 0.6931 - accuracy: 0.5201 - val_loss: 0.6931 - val_accuracy: 0.5000\n",
      "Epoch 20/50\n",
      "80/80 [==============================] - 306s 4s/step - loss: 0.6932 - accuracy: 0.5024 - val_loss: 0.6931 - val_accuracy: 0.5000\n",
      "Epoch 21/50\n",
      "80/80 [==============================] - 306s 4s/step - loss: 0.6932 - accuracy: 0.5051 - val_loss: 0.6931 - val_accuracy: 0.5000\n",
      "Epoch 22/50\n",
      "80/80 [==============================] - 306s 4s/step - loss: 0.6932 - accuracy: 0.4810 - val_loss: 0.6931 - val_accuracy: 0.5000\n",
      "Epoch 23/50\n",
      "80/80 [==============================] - 306s 4s/step - loss: 0.6932 - accuracy: 0.4969 - val_loss: 0.6932 - val_accuracy: 0.5000\n",
      "Epoch 24/50\n",
      "80/80 [==============================] - 306s 4s/step - loss: 0.6932 - accuracy: 0.4952 - val_loss: 0.6931 - val_accuracy: 0.5000\n",
      "Epoch 25/50\n",
      "80/80 [==============================] - 306s 4s/step - loss: 0.6932 - accuracy: 0.5144 - val_loss: 0.6931 - val_accuracy: 0.5000\n",
      "Epoch 26/50\n",
      "80/80 [==============================] - 306s 4s/step - loss: 0.6932 - accuracy: 0.4969 - val_loss: 0.6931 - val_accuracy: 0.5000\n",
      "Epoch 27/50\n",
      "80/80 [==============================] - 306s 4s/step - loss: 0.6932 - accuracy: 0.5075 - val_loss: 0.6931 - val_accuracy: 0.5000\n",
      "Epoch 28/50\n",
      "80/80 [==============================] - 306s 4s/step - loss: 0.6932 - accuracy: 0.4919 - val_loss: 0.6931 - val_accuracy: 0.5000\n",
      "Epoch 29/50\n",
      "80/80 [==============================] - 307s 4s/step - loss: 0.6932 - accuracy: 0.4694 - val_loss: 0.6931 - val_accuracy: 0.5000\n",
      "Epoch 30/50\n",
      "80/80 [==============================] - 306s 4s/step - loss: 0.6932 - accuracy: 0.4998 - val_loss: 0.6931 - val_accuracy: 0.5000\n",
      "Epoch 31/50\n",
      "80/80 [==============================] - 306s 4s/step - loss: 0.6932 - accuracy: 0.5016 - val_loss: 0.6931 - val_accuracy: 0.5000\n",
      "Epoch 32/50\n",
      "80/80 [==============================] - 307s 4s/step - loss: 0.6932 - accuracy: 0.4951 - val_loss: 0.6932 - val_accuracy: 0.5000\n",
      "Epoch 33/50\n",
      "80/80 [==============================] - 306s 4s/step - loss: 0.6932 - accuracy: 0.5059 - val_loss: 0.6931 - val_accuracy: 0.5000\n",
      "Epoch 34/50\n",
      "80/80 [==============================] - 306s 4s/step - loss: 0.6931 - accuracy: 0.5127 - val_loss: 0.6931 - val_accuracy: 0.5000\n",
      "Epoch 35/50\n",
      "80/80 [==============================] - 306s 4s/step - loss: 0.6931 - accuracy: 0.5142 - val_loss: 0.6932 - val_accuracy: 0.5000\n",
      "Epoch 36/50\n",
      "80/80 [==============================] - 306s 4s/step - loss: 0.6932 - accuracy: 0.4948 - val_loss: 0.6931 - val_accuracy: 0.5000\n",
      "Epoch 37/50\n",
      "80/80 [==============================] - 306s 4s/step - loss: 0.6932 - accuracy: 0.4895 - val_loss: 0.6931 - val_accuracy: 0.5000\n",
      "Epoch 38/50\n",
      "80/80 [==============================] - 306s 4s/step - loss: 0.6932 - accuracy: 0.4869 - val_loss: 0.6931 - val_accuracy: 0.5000\n",
      "Epoch 39/50\n",
      "80/80 [==============================] - 306s 4s/step - loss: 0.6932 - accuracy: 0.5086 - val_loss: 0.6931 - val_accuracy: 0.5000\n",
      "Epoch 40/50\n",
      "80/80 [==============================] - 306s 4s/step - loss: 0.6932 - accuracy: 0.4896 - val_loss: 0.6931 - val_accuracy: 0.5000\n",
      "Epoch 41/50\n",
      "80/80 [==============================] - 306s 4s/step - loss: 0.6931 - accuracy: 0.5040 - val_loss: 0.6932 - val_accuracy: 0.5000\n",
      "Epoch 42/50\n",
      "80/80 [==============================] - 306s 4s/step - loss: 0.6932 - accuracy: 0.4919 - val_loss: 0.6931 - val_accuracy: 0.5000\n",
      "Epoch 43/50\n",
      "80/80 [==============================] - 306s 4s/step - loss: 0.6931 - accuracy: 0.4971 - val_loss: 0.6932 - val_accuracy: 0.5000\n",
      "Epoch 44/50\n",
      "80/80 [==============================] - 306s 4s/step - loss: 0.6931 - accuracy: 0.5072 - val_loss: 0.6931 - val_accuracy: 0.5000\n",
      "Epoch 45/50\n",
      "80/80 [==============================] - 306s 4s/step - loss: 0.6932 - accuracy: 0.5175 - val_loss: 0.6931 - val_accuracy: 0.5000\n",
      "Epoch 46/50\n",
      "80/80 [==============================] - 306s 4s/step - loss: 0.6932 - accuracy: 0.5047 - val_loss: 0.6931 - val_accuracy: 0.5000\n",
      "Epoch 47/50\n",
      "80/80 [==============================] - 306s 4s/step - loss: 0.6932 - accuracy: 0.4849 - val_loss: 0.6931 - val_accuracy: 0.5000\n",
      "Epoch 48/50\n",
      "80/80 [==============================] - 306s 4s/step - loss: 0.6932 - accuracy: 0.5134 - val_loss: 0.6931 - val_accuracy: 0.5000\n",
      "Epoch 49/50\n",
      "80/80 [==============================] - 306s 4s/step - loss: 0.6932 - accuracy: 0.5048 - val_loss: 0.6931 - val_accuracy: 0.5000\n",
      "Epoch 50/50\n",
      "80/80 [==============================] - 306s 4s/step - loss: 0.6932 - accuracy: 0.4815 - val_loss: 0.6931 - val_accuracy: 0.5000\n",
      "CPU times: user 44min 14s, sys: 10min 20s, total: 54min 35s\n",
      "Wall time: 4h 15min 23s\n",
      "7/7 [==============================] - 22s 3s/step - loss: 0.6931 - accuracy: 0.5000\n",
      "Test image accuracy :0.5\n"
     ]
    },
    {
     "data": {
      "text/plain": [
       "<matplotlib.legend.Legend at 0x7ff376782110>"
      ]
     },
     "execution_count": 23,
     "metadata": {},
     "output_type": "execute_result"
    },
    {
     "data": {
      "image/png": "[encoded data removed]",
      "text/plain": [
       "<Figure size 432x288 with 1 Axes>"
      ]
     },
     "metadata": {
      "needs_background": "light"
     },
     "output_type": "display_data"
    }
   ],
   "source": [
    "#Adding the final layers to the above base models where the actual classification is done in the dense layers\n",
    "model_Net = tf.keras.models.Sequential()\n",
    "model_Net.add(base_Net)\n",
    "model_Net.add(tf.keras.layers.Dense(1, activation=tf.nn.sigmoid))\n",
    "\n",
    "model_Net.compile(optimizer = 'adam', loss = 'binary_crossentropy', metrics = ['accuracy'])\n",
    "model_Net.summary()\n",
    "\n",
    "# Training the CNN on the Train data and evaluating it on the val data\n",
    "%time history = model_Net.fit(train_generator, validation_data = validation_generator, epochs = 50)\n",
    "##\n",
    "test_loss, test_acc = model_Net.evaluate(test_generator)\n",
    "print(\"Test image accuracy :{}\".format(test_acc))\n",
    "##\n",
    "plt.plot(history.history['accuracy'], '-o' ,label='accuracy')\n",
    "plt.plot(history.history['val_accuracy'], '-o', label = 'val_accuracy')\n",
    "plt.xlabel('Epoch')\n",
    "plt.ylabel('Accuracy')\n",
    "plt.ylim([0, 1])\n",
    "plt.legend(loc='lower right')\n"
   ]
  },
  {
   "cell_type": "markdown",
   "metadata": {},
   "source": [
    "VGG16 model structure is not suitable for the given image dataset.  "
   ]
  },
  {
   "cell_type": "markdown",
   "metadata": {},
   "source": [
    "Select a lighter model such as MobileNet."
   ]
  },
  {
   "cell_type": "code",
   "execution_count": 22,
   "metadata": {
    "execution": {
     "iopub.execute_input": "2021-05-30T05:15:41.778006Z",
     "iopub.status.busy": "2021-05-30T05:15:41.777639Z",
     "iopub.status.idle": "2021-05-30T05:27:27.126781Z",
     "shell.execute_reply": "2021-05-30T05:27:27.125993Z",
     "shell.execute_reply.started": "2021-05-30T05:15:41.777976Z"
    }
   },
   "outputs": [
    {
     "name": "stdout",
     "output_type": "stream",
     "text": [
      "Model: \"sequential_12\"\n",
      "_________________________________________________________________\n",
      "Layer (type)                 Output Shape              Param #   \n",
      "=================================================================\n",
      "mobilenet_1.00_224 (Function (None, 1024)              3228864   \n",
      "_________________________________________________________________\n",
      "dense_11 (Dense)             (None, 1)                 1025      \n",
      "=================================================================\n",
      "Total params: 3,229,889\n",
      "Trainable params: 3,208,001\n",
      "Non-trainable params: 21,888\n",
      "_________________________________________________________________\n",
      "Epoch 1/50\n",
      "80/80 [==============================] - 18s 195ms/step - loss: 0.7321 - accuracy: 0.5672 - val_loss: 0.6943 - val_accuracy: 0.5000\n",
      "Epoch 2/50\n",
      "80/80 [==============================] - 14s 171ms/step - loss: 0.6358 - accuracy: 0.6399 - val_loss: 0.6980 - val_accuracy: 0.5000\n",
      "Epoch 3/50\n",
      "80/80 [==============================] - 14s 171ms/step - loss: 0.5398 - accuracy: 0.7338 - val_loss: 0.7022 - val_accuracy: 0.5000\n",
      "Epoch 4/50\n",
      "80/80 [==============================] - 14s 176ms/step - loss: 0.4876 - accuracy: 0.7709 - val_loss: 0.6965 - val_accuracy: 0.5000\n",
      "Epoch 5/50\n",
      "80/80 [==============================] - 14s 171ms/step - loss: 0.4199 - accuracy: 0.7994 - val_loss: 0.7235 - val_accuracy: 0.5000\n",
      "Epoch 6/50\n",
      "80/80 [==============================] - 14s 176ms/step - loss: 0.4270 - accuracy: 0.8001 - val_loss: 0.8690 - val_accuracy: 0.5000\n",
      "Epoch 7/50\n",
      "80/80 [==============================] - 14s 170ms/step - loss: 0.3536 - accuracy: 0.8416 - val_loss: 0.7366 - val_accuracy: 0.5100\n",
      "Epoch 8/50\n",
      "80/80 [==============================] - 14s 174ms/step - loss: 0.3271 - accuracy: 0.8530 - val_loss: 0.7183 - val_accuracy: 0.5750\n",
      "Epoch 9/50\n",
      "80/80 [==============================] - 14s 172ms/step - loss: 0.3564 - accuracy: 0.8468 - val_loss: 0.5924 - val_accuracy: 0.7300\n",
      "Epoch 10/50\n",
      "80/80 [==============================] - 14s 170ms/step - loss: 0.2483 - accuracy: 0.8927 - val_loss: 0.7455 - val_accuracy: 0.6700\n",
      "Epoch 11/50\n",
      "80/80 [==============================] - 14s 175ms/step - loss: 0.2174 - accuracy: 0.9089 - val_loss: 0.9020 - val_accuracy: 0.6150\n",
      "Epoch 12/50\n",
      "80/80 [==============================] - 14s 171ms/step - loss: 0.2632 - accuracy: 0.8899 - val_loss: 1.2691 - val_accuracy: 0.6150\n",
      "Epoch 13/50\n",
      "80/80 [==============================] - 14s 179ms/step - loss: 0.1776 - accuracy: 0.9205 - val_loss: 0.9576 - val_accuracy: 0.6250\n",
      "Epoch 14/50\n",
      "80/80 [==============================] - 14s 173ms/step - loss: 0.2162 - accuracy: 0.9127 - val_loss: 1.2982 - val_accuracy: 0.5350\n",
      "Epoch 15/50\n",
      "80/80 [==============================] - 14s 177ms/step - loss: 0.1540 - accuracy: 0.9405 - val_loss: 1.1206 - val_accuracy: 0.5900\n",
      "Epoch 16/50\n",
      "80/80 [==============================] - 14s 179ms/step - loss: 0.1035 - accuracy: 0.9582 - val_loss: 1.2508 - val_accuracy: 0.6450\n",
      "Epoch 17/50\n",
      "80/80 [==============================] - 14s 172ms/step - loss: 0.1551 - accuracy: 0.9437 - val_loss: 1.0004 - val_accuracy: 0.6950\n",
      "Epoch 18/50\n",
      "80/80 [==============================] - 14s 174ms/step - loss: 0.1376 - accuracy: 0.9456 - val_loss: 1.6575 - val_accuracy: 0.6450\n",
      "Epoch 19/50\n",
      "80/80 [==============================] - 14s 169ms/step - loss: 0.1634 - accuracy: 0.9290 - val_loss: 0.9384 - val_accuracy: 0.6900\n",
      "Epoch 20/50\n",
      "80/80 [==============================] - 14s 176ms/step - loss: 0.1020 - accuracy: 0.9595 - val_loss: 1.3259 - val_accuracy: 0.6350\n",
      "Epoch 21/50\n",
      "80/80 [==============================] - 14s 170ms/step - loss: 0.1145 - accuracy: 0.9537 - val_loss: 0.8798 - val_accuracy: 0.7000\n",
      "Epoch 22/50\n",
      "80/80 [==============================] - 14s 179ms/step - loss: 0.0944 - accuracy: 0.9668 - val_loss: 1.2181 - val_accuracy: 0.6400\n",
      "Epoch 23/50\n",
      "80/80 [==============================] - 14s 169ms/step - loss: 0.0648 - accuracy: 0.9741 - val_loss: 1.4972 - val_accuracy: 0.6550\n",
      "Epoch 24/50\n",
      "80/80 [==============================] - 14s 173ms/step - loss: 0.0524 - accuracy: 0.9825 - val_loss: 1.3138 - val_accuracy: 0.7400\n",
      "Epoch 25/50\n",
      "80/80 [==============================] - 14s 173ms/step - loss: 0.0600 - accuracy: 0.9769 - val_loss: 1.0401 - val_accuracy: 0.7200\n",
      "Epoch 26/50\n",
      "80/80 [==============================] - 14s 169ms/step - loss: 0.1167 - accuracy: 0.9556 - val_loss: 1.1542 - val_accuracy: 0.6650\n",
      "Epoch 27/50\n",
      "80/80 [==============================] - 14s 174ms/step - loss: 0.1007 - accuracy: 0.9621 - val_loss: 1.0738 - val_accuracy: 0.7500\n",
      "Epoch 28/50\n",
      "80/80 [==============================] - 14s 171ms/step - loss: 0.0682 - accuracy: 0.9715 - val_loss: 1.4200 - val_accuracy: 0.6750\n",
      "Epoch 29/50\n",
      "80/80 [==============================] - 14s 174ms/step - loss: 0.0491 - accuracy: 0.9783 - val_loss: 1.0036 - val_accuracy: 0.7200\n",
      "Epoch 30/50\n",
      "80/80 [==============================] - 14s 170ms/step - loss: 0.0273 - accuracy: 0.9919 - val_loss: 1.0763 - val_accuracy: 0.6750\n",
      "Epoch 31/50\n",
      "80/80 [==============================] - 14s 172ms/step - loss: 0.1007 - accuracy: 0.9548 - val_loss: 1.5071 - val_accuracy: 0.6000\n",
      "Epoch 32/50\n",
      "80/80 [==============================] - 14s 177ms/step - loss: 0.0669 - accuracy: 0.9729 - val_loss: 1.0725 - val_accuracy: 0.6850\n",
      "Epoch 33/50\n",
      "80/80 [==============================] - 14s 169ms/step - loss: 0.0913 - accuracy: 0.9659 - val_loss: 1.3911 - val_accuracy: 0.6450\n",
      "Epoch 34/50\n",
      "80/80 [==============================] - 14s 176ms/step - loss: 0.0684 - accuracy: 0.9723 - val_loss: 1.4343 - val_accuracy: 0.6950\n",
      "Epoch 35/50\n",
      "80/80 [==============================] - 15s 183ms/step - loss: 0.0487 - accuracy: 0.9797 - val_loss: 1.6013 - val_accuracy: 0.6500\n",
      "Epoch 36/50\n",
      "80/80 [==============================] - 16s 203ms/step - loss: 0.0460 - accuracy: 0.9858 - val_loss: 1.4133 - val_accuracy: 0.7000\n",
      "Epoch 37/50\n",
      "80/80 [==============================] - 14s 169ms/step - loss: 0.0461 - accuracy: 0.9853 - val_loss: 1.3988 - val_accuracy: 0.6600\n",
      "Epoch 38/50\n",
      "80/80 [==============================] - 14s 171ms/step - loss: 0.0636 - accuracy: 0.9770 - val_loss: 1.6266 - val_accuracy: 0.6850\n",
      "Epoch 39/50\n",
      "80/80 [==============================] - 14s 174ms/step - loss: 0.1026 - accuracy: 0.9608 - val_loss: 1.6613 - val_accuracy: 0.6700\n",
      "Epoch 40/50\n",
      "80/80 [==============================] - 14s 168ms/step - loss: 0.0735 - accuracy: 0.9643 - val_loss: 1.3307 - val_accuracy: 0.6850\n",
      "Epoch 41/50\n",
      "80/80 [==============================] - 14s 174ms/step - loss: 0.0455 - accuracy: 0.9842 - val_loss: 1.5793 - val_accuracy: 0.6850\n",
      "Epoch 42/50\n",
      "80/80 [==============================] - 14s 173ms/step - loss: 0.0356 - accuracy: 0.9874 - val_loss: 1.2014 - val_accuracy: 0.6900\n",
      "Epoch 43/50\n",
      "80/80 [==============================] - 14s 173ms/step - loss: 0.0324 - accuracy: 0.9871 - val_loss: 1.4522 - val_accuracy: 0.7200\n",
      "Epoch 44/50\n",
      "80/80 [==============================] - 14s 170ms/step - loss: 0.0357 - accuracy: 0.9863 - val_loss: 1.7388 - val_accuracy: 0.6950\n",
      "Epoch 45/50\n",
      "80/80 [==============================] - 14s 171ms/step - loss: 0.0326 - accuracy: 0.9889 - val_loss: 1.6749 - val_accuracy: 0.6850\n",
      "Epoch 46/50\n",
      "80/80 [==============================] - 14s 177ms/step - loss: 0.0542 - accuracy: 0.9815 - val_loss: 1.7728 - val_accuracy: 0.6900\n",
      "Epoch 47/50\n",
      "80/80 [==============================] - 14s 170ms/step - loss: 0.0418 - accuracy: 0.9829 - val_loss: 1.4545 - val_accuracy: 0.6550\n",
      "Epoch 48/50\n",
      "80/80 [==============================] - 14s 174ms/step - loss: 0.0833 - accuracy: 0.9713 - val_loss: 1.5520 - val_accuracy: 0.7050\n",
      "Epoch 49/50\n",
      "80/80 [==============================] - 14s 173ms/step - loss: 0.0650 - accuracy: 0.9752 - val_loss: 1.4356 - val_accuracy: 0.7200\n",
      "Epoch 50/50\n",
      "80/80 [==============================] - 14s 174ms/step - loss: 0.0231 - accuracy: 0.9907 - val_loss: 1.4519 - val_accuracy: 0.6900\n",
      "CPU times: user 17min 58s, sys: 11.6 s, total: 18min 9s\n",
      "Wall time: 11min 43s\n",
      "7/7 [==============================] - 1s 110ms/step - loss: 0.5835 - accuracy: 0.8350\n",
      "Test image accuracy :0.8349999785423279\n"
     ]
    },
    {
     "data": {
      "text/plain": [
       "<matplotlib.legend.Legend at 0x7ff3844b04d0>"
      ]
     },
     "execution_count": 22,
     "metadata": {},
     "output_type": "execute_result"
    },
    {
     "data": {
      "image/png": "[encoded data removed]",
      "text/plain": [
       "<Figure size 432x288 with 1 Axes>"
      ]
     },
     "metadata": {
      "needs_background": "light"
     },
     "output_type": "display_data"
    }
   ],
   "source": [
    "mob_Net = tf.keras.applications.MobileNet(include_top = False, \n",
    "                         weights =None, \n",
    "                         input_shape = train_generator.image_shape, \n",
    "                         pooling='avg',\n",
    "                         )\n",
    "#Adding the final layers to the above base models where the actual classification is done in the dense layers\n",
    "mobile_Net = tf.keras.models.Sequential()\n",
    "mobile_Net.add(mob_Net)\n",
    "mobile_Net.add(tf.keras.layers.Dense(1, activation=tf.nn.sigmoid))\n",
    "\n",
    "mobile_Net.compile(optimizer = 'adam', loss = 'binary_crossentropy', metrics = ['accuracy'])\n",
    "mobile_Net.summary()\n",
    "\n",
    "# Training the CNN on the Train data and evaluating it on the val data\n",
    "%time history = mobile_Net.fit(train_generator, validation_data = validation_generator, epochs = 50)\n",
    "##\n",
    "test_loss, test_acc = mobile_Net.evaluate(test_generator)\n",
    "print(\"Test image accuracy :{}\".format(test_acc))\n",
    "##\n",
    "plt.plot(history.history['accuracy'], '-o' ,label='accuracy')\n",
    "plt.plot(history.history['val_accuracy'], '-o', label = 'val_accuracy')\n",
    "plt.xlabel('Epoch')\n",
    "plt.ylabel('Accuracy')\n",
    "plt.ylim([0, 1])\n",
    "plt.legend(loc='lower right')"
   ]
  },
  {
   "cell_type": "markdown",
   "metadata": {},
   "source": [
    "Test set image accuracy of MobileNet architecture is  slightly increased to 0.835 as compared to 0.81 with a single convolution layer.     \n"
   ]
  },
  {
   "cell_type": "markdown",
   "metadata": {},
   "source": [
    "Try transfer learning with another pre-trained model InceptionResnetV2.  "
   ]
  },
  {
   "cell_type": "code",
   "execution_count": 9,
   "metadata": {
    "execution": {
     "iopub.execute_input": "2021-05-30T12:01:05.403359Z",
     "iopub.status.busy": "2021-05-30T12:01:05.402980Z",
     "iopub.status.idle": "2021-05-30T12:43:25.849839Z",
     "shell.execute_reply": "2021-05-30T12:43:25.848538Z",
     "shell.execute_reply.started": "2021-05-30T12:01:05.403325Z"
    }
   },
   "outputs": [
    {
     "name": "stdout",
     "output_type": "stream",
     "text": [
      "Found 2538 images belonging to 2 classes.\n",
      "Found 200 images belonging to 2 classes.\n",
      "Found 200 images belonging to 2 classes.\n",
      "Model: \"sequential\"\n",
      "_________________________________________________________________\n",
      "Layer (type)                 Output Shape              Param #   \n",
      "=================================================================\n",
      "inception_resnet_v2 (Functio (None, 1536)              54336736  \n",
      "_________________________________________________________________\n",
      "dense (Dense)                (None, 1)                 1537      \n",
      "=================================================================\n",
      "Total params: 54,338,273\n",
      "Trainable params: 54,277,729\n",
      "Non-trainable params: 60,544\n",
      "_________________________________________________________________\n",
      "Epoch 1/50\n",
      "80/80 [==============================] - 84s 717ms/step - loss: 0.7329 - accuracy: 0.6579 - val_loss: 1.1269 - val_accuracy: 0.5000\n",
      "Epoch 2/50\n",
      "80/80 [==============================] - 50s 622ms/step - loss: 0.5459 - accuracy: 0.7186 - val_loss: 1.1070 - val_accuracy: 0.5000\n",
      "Epoch 3/50\n",
      "80/80 [==============================] - 50s 621ms/step - loss: 0.5252 - accuracy: 0.7459 - val_loss: 1.9366 - val_accuracy: 0.5000\n",
      "Epoch 4/50\n",
      "80/80 [==============================] - 50s 621ms/step - loss: 0.4664 - accuracy: 0.7807 - val_loss: 0.8398 - val_accuracy: 0.5200\n",
      "Epoch 5/50\n",
      "80/80 [==============================] - 50s 624ms/step - loss: 0.4457 - accuracy: 0.8023 - val_loss: 0.5954 - val_accuracy: 0.6600\n",
      "Epoch 6/50\n",
      "80/80 [==============================] - 50s 625ms/step - loss: 0.4194 - accuracy: 0.8065 - val_loss: 0.9749 - val_accuracy: 0.6100\n",
      "Epoch 7/50\n",
      "80/80 [==============================] - 50s 622ms/step - loss: 0.4176 - accuracy: 0.8173 - val_loss: 0.5990 - val_accuracy: 0.7250\n",
      "Epoch 8/50\n",
      "80/80 [==============================] - 50s 621ms/step - loss: 0.3778 - accuracy: 0.8313 - val_loss: 0.7372 - val_accuracy: 0.7000\n",
      "Epoch 9/50\n",
      "80/80 [==============================] - 50s 620ms/step - loss: 0.3577 - accuracy: 0.8489 - val_loss: 0.5192 - val_accuracy: 0.7300\n",
      "Epoch 10/50\n",
      "80/80 [==============================] - 50s 625ms/step - loss: 0.3392 - accuracy: 0.8516 - val_loss: 0.5913 - val_accuracy: 0.7200\n",
      "Epoch 11/50\n",
      "80/80 [==============================] - 50s 620ms/step - loss: 0.3335 - accuracy: 0.8632 - val_loss: 0.7128 - val_accuracy: 0.6700\n",
      "Epoch 12/50\n",
      "80/80 [==============================] - 50s 619ms/step - loss: 0.3072 - accuracy: 0.8614 - val_loss: 0.8866 - val_accuracy: 0.5950\n",
      "Epoch 13/50\n",
      "80/80 [==============================] - 50s 619ms/step - loss: 0.3328 - accuracy: 0.8560 - val_loss: 0.7017 - val_accuracy: 0.7450\n",
      "Epoch 14/50\n",
      "80/80 [==============================] - 50s 621ms/step - loss: 0.2607 - accuracy: 0.8972 - val_loss: 0.6471 - val_accuracy: 0.7550\n",
      "Epoch 15/50\n",
      "80/80 [==============================] - 50s 620ms/step - loss: 0.2497 - accuracy: 0.8977 - val_loss: 1.1800 - val_accuracy: 0.6600\n",
      "Epoch 16/50\n",
      "80/80 [==============================] - 50s 620ms/step - loss: 0.2211 - accuracy: 0.9122 - val_loss: 1.2993 - val_accuracy: 0.6150\n",
      "Epoch 17/50\n",
      "80/80 [==============================] - 50s 618ms/step - loss: 0.2069 - accuracy: 0.9247 - val_loss: 1.1911 - val_accuracy: 0.6200\n",
      "Epoch 18/50\n",
      "80/80 [==============================] - 50s 620ms/step - loss: 0.1382 - accuracy: 0.9477 - val_loss: 1.6077 - val_accuracy: 0.6500\n",
      "Epoch 19/50\n",
      "80/80 [==============================] - 50s 619ms/step - loss: 0.1783 - accuracy: 0.9263 - val_loss: 0.7615 - val_accuracy: 0.7500\n",
      "Epoch 20/50\n",
      "80/80 [==============================] - 50s 621ms/step - loss: 0.1168 - accuracy: 0.9577 - val_loss: 0.8490 - val_accuracy: 0.7400\n",
      "Epoch 21/50\n",
      "80/80 [==============================] - 50s 619ms/step - loss: 0.1413 - accuracy: 0.9398 - val_loss: 1.9860 - val_accuracy: 0.7050\n",
      "Epoch 22/50\n",
      "80/80 [==============================] - 50s 623ms/step - loss: 0.1223 - accuracy: 0.9576 - val_loss: 1.1090 - val_accuracy: 0.7150\n",
      "Epoch 23/50\n",
      "80/80 [==============================] - 50s 619ms/step - loss: 0.0903 - accuracy: 0.9711 - val_loss: 1.0285 - val_accuracy: 0.7300\n",
      "Epoch 24/50\n",
      "80/80 [==============================] - 50s 622ms/step - loss: 0.1492 - accuracy: 0.9378 - val_loss: 0.7612 - val_accuracy: 0.8050\n",
      "Epoch 25/50\n",
      "80/80 [==============================] - 50s 619ms/step - loss: 0.0885 - accuracy: 0.9623 - val_loss: 1.5589 - val_accuracy: 0.6350\n",
      "Epoch 26/50\n",
      "80/80 [==============================] - 50s 619ms/step - loss: 0.0544 - accuracy: 0.9817 - val_loss: 0.9541 - val_accuracy: 0.7100\n",
      "Epoch 27/50\n",
      "80/80 [==============================] - 50s 619ms/step - loss: 0.1061 - accuracy: 0.9580 - val_loss: 0.8791 - val_accuracy: 0.7850\n",
      "Epoch 28/50\n",
      "80/80 [==============================] - 50s 619ms/step - loss: 0.0750 - accuracy: 0.9723 - val_loss: 1.2864 - val_accuracy: 0.7350\n",
      "Epoch 29/50\n",
      "80/80 [==============================] - 50s 617ms/step - loss: 0.0448 - accuracy: 0.9886 - val_loss: 1.2275 - val_accuracy: 0.7450\n",
      "Epoch 30/50\n",
      "80/80 [==============================] - 50s 619ms/step - loss: 0.0511 - accuracy: 0.9804 - val_loss: 1.3852 - val_accuracy: 0.7150\n",
      "Epoch 31/50\n",
      "80/80 [==============================] - 50s 619ms/step - loss: 0.0932 - accuracy: 0.9666 - val_loss: 1.0736 - val_accuracy: 0.7700\n",
      "Epoch 32/50\n",
      "80/80 [==============================] - 50s 619ms/step - loss: 0.0270 - accuracy: 0.9902 - val_loss: 1.3353 - val_accuracy: 0.7150\n",
      "Epoch 33/50\n",
      "80/80 [==============================] - 50s 620ms/step - loss: 0.0579 - accuracy: 0.9808 - val_loss: 0.9801 - val_accuracy: 0.7500\n",
      "Epoch 34/50\n",
      "80/80 [==============================] - 50s 618ms/step - loss: 0.0518 - accuracy: 0.9831 - val_loss: 1.6920 - val_accuracy: 0.7050\n",
      "Epoch 35/50\n",
      "80/80 [==============================] - 50s 620ms/step - loss: 0.0499 - accuracy: 0.9818 - val_loss: 1.3682 - val_accuracy: 0.7500\n",
      "Epoch 36/50\n",
      "80/80 [==============================] - 50s 622ms/step - loss: 0.0592 - accuracy: 0.9799 - val_loss: 1.0868 - val_accuracy: 0.7650\n",
      "Epoch 37/50\n",
      "80/80 [==============================] - 50s 621ms/step - loss: 0.0286 - accuracy: 0.9912 - val_loss: 0.8537 - val_accuracy: 0.7500\n",
      "Epoch 38/50\n",
      "80/80 [==============================] - 50s 620ms/step - loss: 0.0345 - accuracy: 0.9874 - val_loss: 1.9538 - val_accuracy: 0.6900\n",
      "Epoch 39/50\n",
      "80/80 [==============================] - 50s 627ms/step - loss: 0.0617 - accuracy: 0.9750 - val_loss: 3.5926 - val_accuracy: 0.6200\n",
      "Epoch 40/50\n",
      "80/80 [==============================] - 50s 619ms/step - loss: 0.0508 - accuracy: 0.9850 - val_loss: 1.8118 - val_accuracy: 0.6450\n",
      "Epoch 41/50\n",
      "80/80 [==============================] - 50s 627ms/step - loss: 0.0907 - accuracy: 0.9707 - val_loss: 1.0620 - val_accuracy: 0.7550\n",
      "Epoch 42/50\n",
      "80/80 [==============================] - 50s 622ms/step - loss: 0.0279 - accuracy: 0.9909 - val_loss: 1.1127 - val_accuracy: 0.7700\n",
      "Epoch 43/50\n",
      "80/80 [==============================] - 50s 623ms/step - loss: 0.0353 - accuracy: 0.9853 - val_loss: 1.5397 - val_accuracy: 0.7550\n",
      "Epoch 44/50\n",
      "80/80 [==============================] - 50s 618ms/step - loss: 0.0402 - accuracy: 0.9845 - val_loss: 0.9270 - val_accuracy: 0.8050\n",
      "Epoch 45/50\n",
      "80/80 [==============================] - 50s 621ms/step - loss: 0.0340 - accuracy: 0.9870 - val_loss: 1.4186 - val_accuracy: 0.7500\n",
      "Epoch 46/50\n",
      "80/80 [==============================] - 50s 619ms/step - loss: 0.0290 - accuracy: 0.9903 - val_loss: 1.4250 - val_accuracy: 0.7400\n",
      "Epoch 47/50\n",
      "80/80 [==============================] - 50s 622ms/step - loss: 0.0181 - accuracy: 0.9953 - val_loss: 1.4118 - val_accuracy: 0.7200\n",
      "Epoch 48/50\n",
      "80/80 [==============================] - 50s 618ms/step - loss: 0.0245 - accuracy: 0.9923 - val_loss: 2.2286 - val_accuracy: 0.6750\n",
      "Epoch 49/50\n",
      "80/80 [==============================] - 50s 617ms/step - loss: 0.0372 - accuracy: 0.9879 - val_loss: 1.6963 - val_accuracy: 0.6800\n",
      "Epoch 50/50\n",
      "80/80 [==============================] - 50s 619ms/step - loss: 0.0439 - accuracy: 0.9834 - val_loss: 0.9886 - val_accuracy: 0.7900\n",
      "CPU times: user 43min 1s, sys: 9min, total: 52min 2s\n",
      "Wall time: 42min 6s\n",
      "7/7 [==============================] - 3s 429ms/step - loss: 0.5454 - accuracy: 0.8800\n",
      "Test image accuracy :0.8799999952316284\n"
     ]
    },
    {
     "data": {
      "text/plain": [
       "<matplotlib.legend.Legend at 0x7fdc9668af50>"
      ]
     },
     "execution_count": 9,
     "metadata": {},
     "output_type": "execute_result"
    },
    {
     "data": {
      "image/png": "[encoded data removed]",
      "text/plain": [
       "<Figure size 432x288 with 1 Axes>"
      ]
     },
     "metadata": {
      "needs_background": "light"
     },
     "output_type": "display_data"
    }
   ],
   "source": [
    "## input image size needs to be in (299,299,3)\n",
    "train_generator = train_datagen.flow_from_directory(\n",
    "        train_img_Path,\n",
    "        target_size=(299, 299),\n",
    "        batch_size=32,\n",
    "        class_mode = 'binary',\n",
    "        shuffle = 'False'\n",
    "        )\n",
    "validation_generator = test_datagen.flow_from_directory(\n",
    "        valid_img_Path,\n",
    "        target_size=(299, 299),\n",
    "        batch_size=32,\n",
    "        class_mode = 'binary',\n",
    "    shuffle = 'False'\n",
    "        )\n",
    "test_generator = test_datagen.flow_from_directory(\n",
    "        test_img_Path,\n",
    "        target_size=(299, 299),\n",
    "        batch_size=32,\n",
    "        class_mode = 'binary',\n",
    "    shuffle = 'False'\n",
    "        )\n",
    "##\n",
    "ir_Net = tf.keras.applications.InceptionResNetV2(include_top = False, \n",
    "                         weights =None, \n",
    "                         input_shape = train_generator.image_shape, \n",
    "                         pooling='avg',\n",
    "                         )\n",
    "#Adding the final layers to the above base models where the actual classification is done in the dense layers\n",
    "in_r_Net = tf.keras.models.Sequential()\n",
    "in_r_Net.add(ir_Net)\n",
    "in_r_Net.add(tf.keras.layers.Dense(1, activation=tf.nn.sigmoid))\n",
    "\n",
    "in_r_Net.compile(optimizer = 'adam', loss = 'binary_crossentropy', metrics = ['accuracy'])\n",
    "in_r_Net.summary()\n",
    "\n",
    "# Training the CNN on the Train data and evaluating it on the val data\n",
    "%time history = in_r_Net.fit(train_generator, validation_data = validation_generator, epochs = 50)\n",
    "##\n",
    "test_loss, test_acc = in_r_Net.evaluate(test_generator, batch_size = 1)\n",
    "print(\"Test image accuracy :{}\".format(test_acc))\n",
    "##\n",
    "plt.plot(history.history['accuracy'], '-o' ,label='accuracy')\n",
    "plt.plot(history.history['val_accuracy'], '-o', label = 'val_accuracy')\n",
    "plt.xlabel('Epoch')\n",
    "plt.ylabel('Accuracy')\n",
    "plt.ylim([0, 1])\n",
    "plt.legend(loc='lower right')"
   ]
  },
  {
   "cell_type": "code",
   "execution_count": 15,
   "metadata": {
    "execution": {
     "iopub.execute_input": "2021-05-30T12:59:45.049145Z",
     "iopub.status.busy": "2021-05-30T12:59:45.048759Z",
     "iopub.status.idle": "2021-05-30T12:59:45.058856Z",
     "shell.execute_reply": "2021-05-30T12:59:45.057107Z",
     "shell.execute_reply.started": "2021-05-30T12:59:45.049112Z"
    }
   },
   "outputs": [
    {
     "data": {
      "text/plain": [
       "dict_keys(['data', 'target', 'target_names', 'images', 'DESCR'])"
      ]
     },
     "execution_count": 15,
     "metadata": {},
     "output_type": "execute_result"
    }
   ],
   "source": [
    "test_data.keys()"
   ]
  },
  {
   "cell_type": "code",
   "execution_count": 19,
   "metadata": {
    "execution": {
     "iopub.execute_input": "2021-05-30T13:02:17.354779Z",
     "iopub.status.busy": "2021-05-30T13:02:17.354336Z",
     "iopub.status.idle": "2021-05-30T13:02:17.365372Z",
     "shell.execute_reply": "2021-05-30T13:02:17.361325Z",
     "shell.execute_reply.started": "2021-05-30T13:02:17.354745Z"
    }
   },
   "outputs": [
    {
     "data": {
      "text/plain": [
       "array([0, 0, 0, 0, 0, 0, 0, 0, 0, 0, 0, 0, 0, 0, 0, 0, 0, 0, 0, 0, 0, 0,\n",
       "       0, 0, 0, 0, 0, 0, 0, 0, 0, 0, 0, 0, 0, 0, 0, 0, 0, 0, 0, 0, 0, 0,\n",
       "       0, 0, 0, 0, 0, 0, 0, 0, 0, 0, 0, 0, 0, 0, 0, 0, 0, 0, 0, 0, 0, 0,\n",
       "       0, 0, 0, 0, 0, 0, 0, 0, 0, 0, 0, 0, 0, 0, 0, 0, 0, 0, 0, 0, 0, 0,\n",
       "       0, 0, 0, 0, 0, 0, 0, 0, 0, 0, 0, 0, 1, 1, 1, 1, 1, 1, 1, 1, 1, 1,\n",
       "       1, 1, 1, 1, 1, 1, 1, 1, 1, 1, 1, 1, 1, 1, 1, 1, 1, 1, 1, 1, 1, 1,\n",
       "       1, 1, 1, 1, 1, 1, 1, 1, 1, 1, 1, 1, 1, 1, 1, 1, 1, 1, 1, 1, 1, 1,\n",
       "       1, 1, 1, 1, 1, 1, 1, 1, 1, 1, 1, 1, 1, 1, 1, 1, 1, 1, 1, 1, 1, 1,\n",
       "       1, 1, 1, 1, 1, 1, 1, 1, 1, 1, 1, 1, 1, 1, 1, 1, 1, 1, 1, 1, 1, 1,\n",
       "       1, 1])"
      ]
     },
     "execution_count": 19,
     "metadata": {},
     "output_type": "execute_result"
    }
   ],
   "source": [
    "test_data['target']"
   ]
  },
  {
   "cell_type": "code",
   "execution_count": 26,
   "metadata": {
    "execution": {
     "iopub.execute_input": "2021-05-30T13:10:16.076961Z",
     "iopub.status.busy": "2021-05-30T13:10:16.076560Z",
     "iopub.status.idle": "2021-05-30T13:10:17.578582Z",
     "shell.execute_reply": "2021-05-30T13:10:17.577497Z",
     "shell.execute_reply.started": "2021-05-30T13:10:16.076920Z"
    }
   },
   "outputs": [
    {
     "name": "stdout",
     "output_type": "stream",
     "text": [
      "Classification report :\n",
      "              precision    recall  f1-score   support\n",
      "\n",
      "           0       0.90      0.82      0.86       100\n",
      "           1       0.83      0.91      0.87       100\n",
      "\n",
      "    accuracy                           0.86       200\n",
      "   macro avg       0.87      0.86      0.86       200\n",
      "weighted avg       0.87      0.86      0.86       200\n",
      "\n",
      "\n"
     ]
    }
   ],
   "source": [
    "## check for f1 score for both the classes. \n",
    "test_predictions = in_r_Net.predict(test_data['data'], batch_size = 32)\n",
    "## based on the max value of probability , predict the class.\n",
    "test_predicted_labels = []\n",
    "for i in range(len(test_predictions)):\n",
    "    #pred_label = np.argmax(test_predictions[i])\n",
    "    if test_predictions[i] < 0.5:\n",
    "        pred_label = 0\n",
    "    else:\n",
    "        pred_label = 1 \n",
    "    test_predicted_labels.append(pred_label)\n",
    "##\n",
    "print(\"Classification report :\\n{}\\n\".format(\n",
    "     classification_report(test_data['target'], test_predicted_labels)))"
   ]
  },
  {
   "cell_type": "markdown",
   "metadata": {},
   "source": [
    "Its'seen that using the pre-trained model architecture , we can increase the accuracy from 0.81 to 0.86 as shown above.  "
   ]
  }
 ],
 "metadata": {
  "kernelspec": {
   "display_name": "Python 3",
   "language": "python",
   "name": "python3"
  },
  "language_info": {
   "codemirror_mode": {
    "name": "ipython",
    "version": 3
   },
   "file_extension": ".py",
   "mimetype": "text/x-python",
   "name": "python",
   "nbconvert_exporter": "python",
   "pygments_lexer": "ipython3",
   "version": "3.8.3"
  }
 },
 "nbformat": 4,
 "nbformat_minor": 4
}
